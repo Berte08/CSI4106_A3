{
  "nbformat": 4,
  "nbformat_minor": 0,
  "metadata": {
    "colab": {
      "provenance": [],
      "include_colab_link": true
    },
    "kernelspec": {
      "name": "python3",
      "display_name": "Python 3"
    },
    "language_info": {
      "name": "python"
    }
  },
  "cells": [
    {
      "cell_type": "markdown",
      "metadata": {
        "id": "view-in-github",
        "colab_type": "text"
      },
      "source": [
        "<a href=\"https://colab.research.google.com/github/Berte08/CSI4106_A3/blob/main/DEVOIR_4.ipynb\" target=\"_parent\"><img src=\"https://colab.research.google.com/assets/colab-badge.svg\" alt=\"Open In Colab\"/></a>"
      ]
    },
    {
      "cell_type": "markdown",
      "source": [
        "## **DEVOIR** 4 - Classification de textes"
      ],
      "metadata": {
        "id": "jCEerT7BQTye"
      }
    },
    {
      "cell_type": "markdown",
      "source": [
        "1. Numéro du groupe: 31 \\\\\n",
        "   Noms des membres: TATA SAIDATOU BERTE \\\\\n",
        "   Numéros d'étudiants des membres: 300100935 \\\\\n",
        "   Titre: Devoir4 \\\\"
      ],
      "metadata": {
        "id": "nWXY2KFWQcB5"
      }
    },
    {
      "cell_type": "markdown",
      "source": [
        "\n",
        "**L'objectif** de ce devoir est d'analyser et de comparer les performances de différents modèles de machine learning, spécifiquement la régression logistique et le Perceptron multicouches (MLP), sur un ensemble de données multi-classes."
      ],
      "metadata": {
        "id": "GK14lNUhFRhc"
      }
    },
    {
      "cell_type": "markdown",
      "source": [
        "**IMPORTATION DES BIBLIOTHEQUES IMPORTANTES ET ACCES DES DONNEES**"
      ],
      "metadata": {
        "id": "_l5FoISXE_W5"
      }
    },
    {
      "cell_type": "code",
      "source": [
        "!pip install spacy"
      ],
      "metadata": {
        "colab": {
          "base_uri": "https://localhost:8080/"
        },
        "id": "XtzrBsnHQuf_",
        "outputId": "e33d5182-d445-44a2-ccd7-92d44c310ee1"
      },
      "execution_count": 1,
      "outputs": [
        {
          "output_type": "stream",
          "name": "stdout",
          "text": [
            "Requirement already satisfied: spacy in /usr/local/lib/python3.10/dist-packages (3.6.1)\n",
            "Requirement already satisfied: spacy-legacy<3.1.0,>=3.0.11 in /usr/local/lib/python3.10/dist-packages (from spacy) (3.0.12)\n",
            "Requirement already satisfied: spacy-loggers<2.0.0,>=1.0.0 in /usr/local/lib/python3.10/dist-packages (from spacy) (1.0.5)\n",
            "Requirement already satisfied: murmurhash<1.1.0,>=0.28.0 in /usr/local/lib/python3.10/dist-packages (from spacy) (1.0.10)\n",
            "Requirement already satisfied: cymem<2.1.0,>=2.0.2 in /usr/local/lib/python3.10/dist-packages (from spacy) (2.0.8)\n",
            "Requirement already satisfied: preshed<3.1.0,>=3.0.2 in /usr/local/lib/python3.10/dist-packages (from spacy) (3.0.9)\n",
            "Requirement already satisfied: thinc<8.2.0,>=8.1.8 in /usr/local/lib/python3.10/dist-packages (from spacy) (8.1.12)\n",
            "Requirement already satisfied: wasabi<1.2.0,>=0.9.1 in /usr/local/lib/python3.10/dist-packages (from spacy) (1.1.2)\n",
            "Requirement already satisfied: srsly<3.0.0,>=2.4.3 in /usr/local/lib/python3.10/dist-packages (from spacy) (2.4.8)\n",
            "Requirement already satisfied: catalogue<2.1.0,>=2.0.6 in /usr/local/lib/python3.10/dist-packages (from spacy) (2.0.10)\n",
            "Requirement already satisfied: typer<0.10.0,>=0.3.0 in /usr/local/lib/python3.10/dist-packages (from spacy) (0.9.0)\n",
            "Requirement already satisfied: pathy>=0.10.0 in /usr/local/lib/python3.10/dist-packages (from spacy) (0.10.3)\n",
            "Requirement already satisfied: smart-open<7.0.0,>=5.2.1 in /usr/local/lib/python3.10/dist-packages (from spacy) (6.4.0)\n",
            "Requirement already satisfied: tqdm<5.0.0,>=4.38.0 in /usr/local/lib/python3.10/dist-packages (from spacy) (4.66.1)\n",
            "Requirement already satisfied: numpy>=1.15.0 in /usr/local/lib/python3.10/dist-packages (from spacy) (1.23.5)\n",
            "Requirement already satisfied: requests<3.0.0,>=2.13.0 in /usr/local/lib/python3.10/dist-packages (from spacy) (2.31.0)\n",
            "Requirement already satisfied: pydantic!=1.8,!=1.8.1,<3.0.0,>=1.7.4 in /usr/local/lib/python3.10/dist-packages (from spacy) (1.10.13)\n",
            "Requirement already satisfied: jinja2 in /usr/local/lib/python3.10/dist-packages (from spacy) (3.1.2)\n",
            "Requirement already satisfied: setuptools in /usr/local/lib/python3.10/dist-packages (from spacy) (67.7.2)\n",
            "Requirement already satisfied: packaging>=20.0 in /usr/local/lib/python3.10/dist-packages (from spacy) (23.2)\n",
            "Requirement already satisfied: langcodes<4.0.0,>=3.2.0 in /usr/local/lib/python3.10/dist-packages (from spacy) (3.3.0)\n",
            "Requirement already satisfied: typing-extensions>=4.2.0 in /usr/local/lib/python3.10/dist-packages (from pydantic!=1.8,!=1.8.1,<3.0.0,>=1.7.4->spacy) (4.5.0)\n",
            "Requirement already satisfied: charset-normalizer<4,>=2 in /usr/local/lib/python3.10/dist-packages (from requests<3.0.0,>=2.13.0->spacy) (3.3.2)\n",
            "Requirement already satisfied: idna<4,>=2.5 in /usr/local/lib/python3.10/dist-packages (from requests<3.0.0,>=2.13.0->spacy) (3.6)\n",
            "Requirement already satisfied: urllib3<3,>=1.21.1 in /usr/local/lib/python3.10/dist-packages (from requests<3.0.0,>=2.13.0->spacy) (2.0.7)\n",
            "Requirement already satisfied: certifi>=2017.4.17 in /usr/local/lib/python3.10/dist-packages (from requests<3.0.0,>=2.13.0->spacy) (2023.11.17)\n",
            "Requirement already satisfied: blis<0.8.0,>=0.7.8 in /usr/local/lib/python3.10/dist-packages (from thinc<8.2.0,>=8.1.8->spacy) (0.7.11)\n",
            "Requirement already satisfied: confection<1.0.0,>=0.0.1 in /usr/local/lib/python3.10/dist-packages (from thinc<8.2.0,>=8.1.8->spacy) (0.1.4)\n",
            "Requirement already satisfied: click<9.0.0,>=7.1.1 in /usr/local/lib/python3.10/dist-packages (from typer<0.10.0,>=0.3.0->spacy) (8.1.7)\n",
            "Requirement already satisfied: MarkupSafe>=2.0 in /usr/local/lib/python3.10/dist-packages (from jinja2->spacy) (2.1.3)\n"
          ]
        }
      ]
    },
    {
      "cell_type": "code",
      "source": [
        "!python -m spacy download en_core_web_sm"
      ],
      "metadata": {
        "colab": {
          "base_uri": "https://localhost:8080/"
        },
        "id": "yOWpO2Iek-rX",
        "outputId": "f706d141-4f2d-4e57-c98f-b2f36119e7a2"
      },
      "execution_count": 2,
      "outputs": [
        {
          "output_type": "stream",
          "name": "stdout",
          "text": [
            "2023-12-02 20:16:43.648272: E tensorflow/compiler/xla/stream_executor/cuda/cuda_dnn.cc:9342] Unable to register cuDNN factory: Attempting to register factory for plugin cuDNN when one has already been registered\n",
            "2023-12-02 20:16:43.648340: E tensorflow/compiler/xla/stream_executor/cuda/cuda_fft.cc:609] Unable to register cuFFT factory: Attempting to register factory for plugin cuFFT when one has already been registered\n",
            "2023-12-02 20:16:43.648380: E tensorflow/compiler/xla/stream_executor/cuda/cuda_blas.cc:1518] Unable to register cuBLAS factory: Attempting to register factory for plugin cuBLAS when one has already been registered\n",
            "2023-12-02 20:16:43.663646: I tensorflow/core/platform/cpu_feature_guard.cc:182] This TensorFlow binary is optimized to use available CPU instructions in performance-critical operations.\n",
            "To enable the following instructions: AVX2 FMA, in other operations, rebuild TensorFlow with the appropriate compiler flags.\n",
            "2023-12-02 20:16:46.105121: W tensorflow/compiler/tf2tensorrt/utils/py_utils.cc:38] TF-TRT Warning: Could not find TensorRT\n",
            "Collecting en-core-web-sm==3.6.0\n",
            "  Downloading https://github.com/explosion/spacy-models/releases/download/en_core_web_sm-3.6.0/en_core_web_sm-3.6.0-py3-none-any.whl (12.8 MB)\n",
            "\u001b[2K     \u001b[90m━━━━━━━━━━━━━━━━━━━━━━━━━━━━━━━━━━━━━━━━\u001b[0m \u001b[32m12.8/12.8 MB\u001b[0m \u001b[31m76.3 MB/s\u001b[0m eta \u001b[36m0:00:00\u001b[0m\n",
            "\u001b[?25hRequirement already satisfied: spacy<3.7.0,>=3.6.0 in /usr/local/lib/python3.10/dist-packages (from en-core-web-sm==3.6.0) (3.6.1)\n",
            "Requirement already satisfied: spacy-legacy<3.1.0,>=3.0.11 in /usr/local/lib/python3.10/dist-packages (from spacy<3.7.0,>=3.6.0->en-core-web-sm==3.6.0) (3.0.12)\n",
            "Requirement already satisfied: spacy-loggers<2.0.0,>=1.0.0 in /usr/local/lib/python3.10/dist-packages (from spacy<3.7.0,>=3.6.0->en-core-web-sm==3.6.0) (1.0.5)\n",
            "Requirement already satisfied: murmurhash<1.1.0,>=0.28.0 in /usr/local/lib/python3.10/dist-packages (from spacy<3.7.0,>=3.6.0->en-core-web-sm==3.6.0) (1.0.10)\n",
            "Requirement already satisfied: cymem<2.1.0,>=2.0.2 in /usr/local/lib/python3.10/dist-packages (from spacy<3.7.0,>=3.6.0->en-core-web-sm==3.6.0) (2.0.8)\n",
            "Requirement already satisfied: preshed<3.1.0,>=3.0.2 in /usr/local/lib/python3.10/dist-packages (from spacy<3.7.0,>=3.6.0->en-core-web-sm==3.6.0) (3.0.9)\n",
            "Requirement already satisfied: thinc<8.2.0,>=8.1.8 in /usr/local/lib/python3.10/dist-packages (from spacy<3.7.0,>=3.6.0->en-core-web-sm==3.6.0) (8.1.12)\n",
            "Requirement already satisfied: wasabi<1.2.0,>=0.9.1 in /usr/local/lib/python3.10/dist-packages (from spacy<3.7.0,>=3.6.0->en-core-web-sm==3.6.0) (1.1.2)\n",
            "Requirement already satisfied: srsly<3.0.0,>=2.4.3 in /usr/local/lib/python3.10/dist-packages (from spacy<3.7.0,>=3.6.0->en-core-web-sm==3.6.0) (2.4.8)\n",
            "Requirement already satisfied: catalogue<2.1.0,>=2.0.6 in /usr/local/lib/python3.10/dist-packages (from spacy<3.7.0,>=3.6.0->en-core-web-sm==3.6.0) (2.0.10)\n",
            "Requirement already satisfied: typer<0.10.0,>=0.3.0 in /usr/local/lib/python3.10/dist-packages (from spacy<3.7.0,>=3.6.0->en-core-web-sm==3.6.0) (0.9.0)\n",
            "Requirement already satisfied: pathy>=0.10.0 in /usr/local/lib/python3.10/dist-packages (from spacy<3.7.0,>=3.6.0->en-core-web-sm==3.6.0) (0.10.3)\n",
            "Requirement already satisfied: smart-open<7.0.0,>=5.2.1 in /usr/local/lib/python3.10/dist-packages (from spacy<3.7.0,>=3.6.0->en-core-web-sm==3.6.0) (6.4.0)\n",
            "Requirement already satisfied: tqdm<5.0.0,>=4.38.0 in /usr/local/lib/python3.10/dist-packages (from spacy<3.7.0,>=3.6.0->en-core-web-sm==3.6.0) (4.66.1)\n",
            "Requirement already satisfied: numpy>=1.15.0 in /usr/local/lib/python3.10/dist-packages (from spacy<3.7.0,>=3.6.0->en-core-web-sm==3.6.0) (1.23.5)\n",
            "Requirement already satisfied: requests<3.0.0,>=2.13.0 in /usr/local/lib/python3.10/dist-packages (from spacy<3.7.0,>=3.6.0->en-core-web-sm==3.6.0) (2.31.0)\n",
            "Requirement already satisfied: pydantic!=1.8,!=1.8.1,<3.0.0,>=1.7.4 in /usr/local/lib/python3.10/dist-packages (from spacy<3.7.0,>=3.6.0->en-core-web-sm==3.6.0) (1.10.13)\n",
            "Requirement already satisfied: jinja2 in /usr/local/lib/python3.10/dist-packages (from spacy<3.7.0,>=3.6.0->en-core-web-sm==3.6.0) (3.1.2)\n",
            "Requirement already satisfied: setuptools in /usr/local/lib/python3.10/dist-packages (from spacy<3.7.0,>=3.6.0->en-core-web-sm==3.6.0) (67.7.2)\n",
            "Requirement already satisfied: packaging>=20.0 in /usr/local/lib/python3.10/dist-packages (from spacy<3.7.0,>=3.6.0->en-core-web-sm==3.6.0) (23.2)\n",
            "Requirement already satisfied: langcodes<4.0.0,>=3.2.0 in /usr/local/lib/python3.10/dist-packages (from spacy<3.7.0,>=3.6.0->en-core-web-sm==3.6.0) (3.3.0)\n",
            "Requirement already satisfied: typing-extensions>=4.2.0 in /usr/local/lib/python3.10/dist-packages (from pydantic!=1.8,!=1.8.1,<3.0.0,>=1.7.4->spacy<3.7.0,>=3.6.0->en-core-web-sm==3.6.0) (4.5.0)\n",
            "Requirement already satisfied: charset-normalizer<4,>=2 in /usr/local/lib/python3.10/dist-packages (from requests<3.0.0,>=2.13.0->spacy<3.7.0,>=3.6.0->en-core-web-sm==3.6.0) (3.3.2)\n",
            "Requirement already satisfied: idna<4,>=2.5 in /usr/local/lib/python3.10/dist-packages (from requests<3.0.0,>=2.13.0->spacy<3.7.0,>=3.6.0->en-core-web-sm==3.6.0) (3.6)\n",
            "Requirement already satisfied: urllib3<3,>=1.21.1 in /usr/local/lib/python3.10/dist-packages (from requests<3.0.0,>=2.13.0->spacy<3.7.0,>=3.6.0->en-core-web-sm==3.6.0) (2.0.7)\n",
            "Requirement already satisfied: certifi>=2017.4.17 in /usr/local/lib/python3.10/dist-packages (from requests<3.0.0,>=2.13.0->spacy<3.7.0,>=3.6.0->en-core-web-sm==3.6.0) (2023.11.17)\n",
            "Requirement already satisfied: blis<0.8.0,>=0.7.8 in /usr/local/lib/python3.10/dist-packages (from thinc<8.2.0,>=8.1.8->spacy<3.7.0,>=3.6.0->en-core-web-sm==3.6.0) (0.7.11)\n",
            "Requirement already satisfied: confection<1.0.0,>=0.0.1 in /usr/local/lib/python3.10/dist-packages (from thinc<8.2.0,>=8.1.8->spacy<3.7.0,>=3.6.0->en-core-web-sm==3.6.0) (0.1.4)\n",
            "Requirement already satisfied: click<9.0.0,>=7.1.1 in /usr/local/lib/python3.10/dist-packages (from typer<0.10.0,>=0.3.0->spacy<3.7.0,>=3.6.0->en-core-web-sm==3.6.0) (8.1.7)\n",
            "Requirement already satisfied: MarkupSafe>=2.0 in /usr/local/lib/python3.10/dist-packages (from jinja2->spacy<3.7.0,>=3.6.0->en-core-web-sm==3.6.0) (2.1.3)\n",
            "\u001b[38;5;2m✔ Download and installation successful\u001b[0m\n",
            "You can now load the package via spacy.load('en_core_web_sm')\n"
          ]
        }
      ]
    },
    {
      "cell_type": "code",
      "source": [
        "import spacy\n",
        "import pandas as pd\n",
        "import numpy as np"
      ],
      "metadata": {
        "id": "IsngsPsKQw6P"
      },
      "execution_count": 3,
      "outputs": []
    },
    {
      "cell_type": "markdown",
      "source": [
        "# **1-choix des ensembles de données textuelles**"
      ],
      "metadata": {
        "id": "8-LKS3FaGqIy"
      }
    },
    {
      "cell_type": "markdown",
      "source": [
        " La base de données choisie est  CNN theme classification"
      ],
      "metadata": {
        "id": "naMl9_i2i9No"
      }
    },
    {
      "cell_type": "code",
      "source": [
        "\n",
        "\n",
        "url =\"https://github.com/Berte08/CSI4106_A3/raw/main/reduced_file_cnnnews.csv\"\n",
        "\n",
        "#url =\"https://github.com/Berte08/CSI4106_A3/raw/main/reduced_file_AirPassengerReviews.csv\"\n"
      ],
      "metadata": {
        "id": "9OiedkfrRSB8"
      },
      "execution_count": 4,
      "outputs": []
    },
    {
      "cell_type": "markdown",
      "source": [
        "Chargement de données"
      ],
      "metadata": {
        "id": "9lf68uwdlLsL"
      }
    },
    {
      "cell_type": "code",
      "source": [
        "print(url)\n",
        "data = pd.read_csv(url)"
      ],
      "metadata": {
        "colab": {
          "base_uri": "https://localhost:8080/"
        },
        "id": "WBxpqyH8RUXD",
        "outputId": "ab3106d2-bbee-4faf-8cac-e6b18057fcaa"
      },
      "execution_count": 5,
      "outputs": [
        {
          "output_type": "stream",
          "name": "stdout",
          "text": [
            "https://github.com/Berte08/CSI4106_A3/raw/main/reduced_file_cnnnews.csv\n"
          ]
        }
      ]
    },
    {
      "cell_type": "code",
      "source": [
        "data.head()"
      ],
      "metadata": {
        "colab": {
          "base_uri": "https://localhost:8080/",
          "height": 379
        },
        "id": "cRm5s0d-RVxU",
        "outputId": "4650e057-53f8-4498-f170-83f544770186"
      },
      "execution_count": 6,
      "outputs": [
        {
          "output_type": "execute_result",
          "data": {
            "text/plain": [
              "   ID                                              Title  \\\n",
              "0   1  Candy factory didn't evacuate concerned worker...   \n",
              "1   2  Baltimore police ask for public's help identif...   \n",
              "2   3  An arrest warrant has been issued for a suspec...   \n",
              "3   4  115 improperly stored human remains found in C...   \n",
              "4   5  Bronx day care provider and 2 others indicted ...   \n",
              "\n",
              "                                         Description  \\\n",
              "0  An eastern Pennsylvania candy factory didn’t e...   \n",
              "1  Two shooters were involved in an attack at Mor...   \n",
              "2  Authorities in Pennsylvania say they have issu...   \n",
              "3  An investigation into more than 115 bodies fou...   \n",
              "4  A Bronx day care provider, her husband and his...   \n",
              "\n",
              "                                                Body  \\\n",
              "0  An eastern Pennsylvania candy factory didn’t e...   \n",
              "1  Two shooters were involved in an attack at Mor...   \n",
              "2  Authorities in Pennsylvania say they have issu...   \n",
              "3  An investigation into more than 115 bodies fou...   \n",
              "4  A Bronx day care provider, her husband and his...   \n",
              "\n",
              "                                            Keywords Theme  \\\n",
              "0  accident investigations, accidents, accidents,...    us   \n",
              "1  baltimore, brand safety-nsf crime, brand safet...    us   \n",
              "2  arrest warrants, arrests, brand safety-nsf cri...    us   \n",
              "3  brand safety-nsf death, brand safety-nsf sensi...    us   \n",
              "4  brand safety-nsf crime, brand safety-nsf death...    us   \n",
              "\n",
              "                                                Link  \n",
              "0  https://edition.cnn.com/2023/10/06/us/pennsylv...  \n",
              "1  https://edition.cnn.com/2023/10/06/us/morgan-s...  \n",
              "2  https://edition.cnn.com/2023/10/06/us/josh-kru...  \n",
              "3  https://edition.cnn.com/2023/10/06/us/colorado...  \n",
              "4  https://edition.cnn.com/2023/10/05/us/bronx-da...  "
            ],
            "text/html": [
              "\n",
              "  <div id=\"df-7f7a78a9-5770-4fcd-8922-970a6a26e6b4\" class=\"colab-df-container\">\n",
              "    <div>\n",
              "<style scoped>\n",
              "    .dataframe tbody tr th:only-of-type {\n",
              "        vertical-align: middle;\n",
              "    }\n",
              "\n",
              "    .dataframe tbody tr th {\n",
              "        vertical-align: top;\n",
              "    }\n",
              "\n",
              "    .dataframe thead th {\n",
              "        text-align: right;\n",
              "    }\n",
              "</style>\n",
              "<table border=\"1\" class=\"dataframe\">\n",
              "  <thead>\n",
              "    <tr style=\"text-align: right;\">\n",
              "      <th></th>\n",
              "      <th>ID</th>\n",
              "      <th>Title</th>\n",
              "      <th>Description</th>\n",
              "      <th>Body</th>\n",
              "      <th>Keywords</th>\n",
              "      <th>Theme</th>\n",
              "      <th>Link</th>\n",
              "    </tr>\n",
              "  </thead>\n",
              "  <tbody>\n",
              "    <tr>\n",
              "      <th>0</th>\n",
              "      <td>1</td>\n",
              "      <td>Candy factory didn't evacuate concerned worker...</td>\n",
              "      <td>An eastern Pennsylvania candy factory didn’t e...</td>\n",
              "      <td>An eastern Pennsylvania candy factory didn’t e...</td>\n",
              "      <td>accident investigations, accidents, accidents,...</td>\n",
              "      <td>us</td>\n",
              "      <td>https://edition.cnn.com/2023/10/06/us/pennsylv...</td>\n",
              "    </tr>\n",
              "    <tr>\n",
              "      <th>1</th>\n",
              "      <td>2</td>\n",
              "      <td>Baltimore police ask for public's help identif...</td>\n",
              "      <td>Two shooters were involved in an attack at Mor...</td>\n",
              "      <td>Two shooters were involved in an attack at Mor...</td>\n",
              "      <td>baltimore, brand safety-nsf crime, brand safet...</td>\n",
              "      <td>us</td>\n",
              "      <td>https://edition.cnn.com/2023/10/06/us/morgan-s...</td>\n",
              "    </tr>\n",
              "    <tr>\n",
              "      <th>2</th>\n",
              "      <td>3</td>\n",
              "      <td>An arrest warrant has been issued for a suspec...</td>\n",
              "      <td>Authorities in Pennsylvania say they have issu...</td>\n",
              "      <td>Authorities in Pennsylvania say they have issu...</td>\n",
              "      <td>arrest warrants, arrests, brand safety-nsf cri...</td>\n",
              "      <td>us</td>\n",
              "      <td>https://edition.cnn.com/2023/10/06/us/josh-kru...</td>\n",
              "    </tr>\n",
              "    <tr>\n",
              "      <th>3</th>\n",
              "      <td>4</td>\n",
              "      <td>115 improperly stored human remains found in C...</td>\n",
              "      <td>An investigation into more than 115 bodies fou...</td>\n",
              "      <td>An investigation into more than 115 bodies fou...</td>\n",
              "      <td>brand safety-nsf death, brand safety-nsf sensi...</td>\n",
              "      <td>us</td>\n",
              "      <td>https://edition.cnn.com/2023/10/06/us/colorado...</td>\n",
              "    </tr>\n",
              "    <tr>\n",
              "      <th>4</th>\n",
              "      <td>5</td>\n",
              "      <td>Bronx day care provider and 2 others indicted ...</td>\n",
              "      <td>A Bronx day care provider, her husband and his...</td>\n",
              "      <td>A Bronx day care provider, her husband and his...</td>\n",
              "      <td>brand safety-nsf crime, brand safety-nsf death...</td>\n",
              "      <td>us</td>\n",
              "      <td>https://edition.cnn.com/2023/10/05/us/bronx-da...</td>\n",
              "    </tr>\n",
              "  </tbody>\n",
              "</table>\n",
              "</div>\n",
              "    <div class=\"colab-df-buttons\">\n",
              "\n",
              "  <div class=\"colab-df-container\">\n",
              "    <button class=\"colab-df-convert\" onclick=\"convertToInteractive('df-7f7a78a9-5770-4fcd-8922-970a6a26e6b4')\"\n",
              "            title=\"Convert this dataframe to an interactive table.\"\n",
              "            style=\"display:none;\">\n",
              "\n",
              "  <svg xmlns=\"http://www.w3.org/2000/svg\" height=\"24px\" viewBox=\"0 -960 960 960\">\n",
              "    <path d=\"M120-120v-720h720v720H120Zm60-500h600v-160H180v160Zm220 220h160v-160H400v160Zm0 220h160v-160H400v160ZM180-400h160v-160H180v160Zm440 0h160v-160H620v160ZM180-180h160v-160H180v160Zm440 0h160v-160H620v160Z\"/>\n",
              "  </svg>\n",
              "    </button>\n",
              "\n",
              "  <style>\n",
              "    .colab-df-container {\n",
              "      display:flex;\n",
              "      gap: 12px;\n",
              "    }\n",
              "\n",
              "    .colab-df-convert {\n",
              "      background-color: #E8F0FE;\n",
              "      border: none;\n",
              "      border-radius: 50%;\n",
              "      cursor: pointer;\n",
              "      display: none;\n",
              "      fill: #1967D2;\n",
              "      height: 32px;\n",
              "      padding: 0 0 0 0;\n",
              "      width: 32px;\n",
              "    }\n",
              "\n",
              "    .colab-df-convert:hover {\n",
              "      background-color: #E2EBFA;\n",
              "      box-shadow: 0px 1px 2px rgba(60, 64, 67, 0.3), 0px 1px 3px 1px rgba(60, 64, 67, 0.15);\n",
              "      fill: #174EA6;\n",
              "    }\n",
              "\n",
              "    .colab-df-buttons div {\n",
              "      margin-bottom: 4px;\n",
              "    }\n",
              "\n",
              "    [theme=dark] .colab-df-convert {\n",
              "      background-color: #3B4455;\n",
              "      fill: #D2E3FC;\n",
              "    }\n",
              "\n",
              "    [theme=dark] .colab-df-convert:hover {\n",
              "      background-color: #434B5C;\n",
              "      box-shadow: 0px 1px 3px 1px rgba(0, 0, 0, 0.15);\n",
              "      filter: drop-shadow(0px 1px 2px rgba(0, 0, 0, 0.3));\n",
              "      fill: #FFFFFF;\n",
              "    }\n",
              "  </style>\n",
              "\n",
              "    <script>\n",
              "      const buttonEl =\n",
              "        document.querySelector('#df-7f7a78a9-5770-4fcd-8922-970a6a26e6b4 button.colab-df-convert');\n",
              "      buttonEl.style.display =\n",
              "        google.colab.kernel.accessAllowed ? 'block' : 'none';\n",
              "\n",
              "      async function convertToInteractive(key) {\n",
              "        const element = document.querySelector('#df-7f7a78a9-5770-4fcd-8922-970a6a26e6b4');\n",
              "        const dataTable =\n",
              "          await google.colab.kernel.invokeFunction('convertToInteractive',\n",
              "                                                    [key], {});\n",
              "        if (!dataTable) return;\n",
              "\n",
              "        const docLinkHtml = 'Like what you see? Visit the ' +\n",
              "          '<a target=\"_blank\" href=https://colab.research.google.com/notebooks/data_table.ipynb>data table notebook</a>'\n",
              "          + ' to learn more about interactive tables.';\n",
              "        element.innerHTML = '';\n",
              "        dataTable['output_type'] = 'display_data';\n",
              "        await google.colab.output.renderOutput(dataTable, element);\n",
              "        const docLink = document.createElement('div');\n",
              "        docLink.innerHTML = docLinkHtml;\n",
              "        element.appendChild(docLink);\n",
              "      }\n",
              "    </script>\n",
              "  </div>\n",
              "\n",
              "\n",
              "<div id=\"df-ef26836d-b038-4eab-a570-c688effdd700\">\n",
              "  <button class=\"colab-df-quickchart\" onclick=\"quickchart('df-ef26836d-b038-4eab-a570-c688effdd700')\"\n",
              "            title=\"Suggest charts\"\n",
              "            style=\"display:none;\">\n",
              "\n",
              "<svg xmlns=\"http://www.w3.org/2000/svg\" height=\"24px\"viewBox=\"0 0 24 24\"\n",
              "     width=\"24px\">\n",
              "    <g>\n",
              "        <path d=\"M19 3H5c-1.1 0-2 .9-2 2v14c0 1.1.9 2 2 2h14c1.1 0 2-.9 2-2V5c0-1.1-.9-2-2-2zM9 17H7v-7h2v7zm4 0h-2V7h2v10zm4 0h-2v-4h2v4z\"/>\n",
              "    </g>\n",
              "</svg>\n",
              "  </button>\n",
              "\n",
              "<style>\n",
              "  .colab-df-quickchart {\n",
              "      --bg-color: #E8F0FE;\n",
              "      --fill-color: #1967D2;\n",
              "      --hover-bg-color: #E2EBFA;\n",
              "      --hover-fill-color: #174EA6;\n",
              "      --disabled-fill-color: #AAA;\n",
              "      --disabled-bg-color: #DDD;\n",
              "  }\n",
              "\n",
              "  [theme=dark] .colab-df-quickchart {\n",
              "      --bg-color: #3B4455;\n",
              "      --fill-color: #D2E3FC;\n",
              "      --hover-bg-color: #434B5C;\n",
              "      --hover-fill-color: #FFFFFF;\n",
              "      --disabled-bg-color: #3B4455;\n",
              "      --disabled-fill-color: #666;\n",
              "  }\n",
              "\n",
              "  .colab-df-quickchart {\n",
              "    background-color: var(--bg-color);\n",
              "    border: none;\n",
              "    border-radius: 50%;\n",
              "    cursor: pointer;\n",
              "    display: none;\n",
              "    fill: var(--fill-color);\n",
              "    height: 32px;\n",
              "    padding: 0;\n",
              "    width: 32px;\n",
              "  }\n",
              "\n",
              "  .colab-df-quickchart:hover {\n",
              "    background-color: var(--hover-bg-color);\n",
              "    box-shadow: 0 1px 2px rgba(60, 64, 67, 0.3), 0 1px 3px 1px rgba(60, 64, 67, 0.15);\n",
              "    fill: var(--button-hover-fill-color);\n",
              "  }\n",
              "\n",
              "  .colab-df-quickchart-complete:disabled,\n",
              "  .colab-df-quickchart-complete:disabled:hover {\n",
              "    background-color: var(--disabled-bg-color);\n",
              "    fill: var(--disabled-fill-color);\n",
              "    box-shadow: none;\n",
              "  }\n",
              "\n",
              "  .colab-df-spinner {\n",
              "    border: 2px solid var(--fill-color);\n",
              "    border-color: transparent;\n",
              "    border-bottom-color: var(--fill-color);\n",
              "    animation:\n",
              "      spin 1s steps(1) infinite;\n",
              "  }\n",
              "\n",
              "  @keyframes spin {\n",
              "    0% {\n",
              "      border-color: transparent;\n",
              "      border-bottom-color: var(--fill-color);\n",
              "      border-left-color: var(--fill-color);\n",
              "    }\n",
              "    20% {\n",
              "      border-color: transparent;\n",
              "      border-left-color: var(--fill-color);\n",
              "      border-top-color: var(--fill-color);\n",
              "    }\n",
              "    30% {\n",
              "      border-color: transparent;\n",
              "      border-left-color: var(--fill-color);\n",
              "      border-top-color: var(--fill-color);\n",
              "      border-right-color: var(--fill-color);\n",
              "    }\n",
              "    40% {\n",
              "      border-color: transparent;\n",
              "      border-right-color: var(--fill-color);\n",
              "      border-top-color: var(--fill-color);\n",
              "    }\n",
              "    60% {\n",
              "      border-color: transparent;\n",
              "      border-right-color: var(--fill-color);\n",
              "    }\n",
              "    80% {\n",
              "      border-color: transparent;\n",
              "      border-right-color: var(--fill-color);\n",
              "      border-bottom-color: var(--fill-color);\n",
              "    }\n",
              "    90% {\n",
              "      border-color: transparent;\n",
              "      border-bottom-color: var(--fill-color);\n",
              "    }\n",
              "  }\n",
              "</style>\n",
              "\n",
              "  <script>\n",
              "    async function quickchart(key) {\n",
              "      const quickchartButtonEl =\n",
              "        document.querySelector('#' + key + ' button');\n",
              "      quickchartButtonEl.disabled = true;  // To prevent multiple clicks.\n",
              "      quickchartButtonEl.classList.add('colab-df-spinner');\n",
              "      try {\n",
              "        const charts = await google.colab.kernel.invokeFunction(\n",
              "            'suggestCharts', [key], {});\n",
              "      } catch (error) {\n",
              "        console.error('Error during call to suggestCharts:', error);\n",
              "      }\n",
              "      quickchartButtonEl.classList.remove('colab-df-spinner');\n",
              "      quickchartButtonEl.classList.add('colab-df-quickchart-complete');\n",
              "    }\n",
              "    (() => {\n",
              "      let quickchartButtonEl =\n",
              "        document.querySelector('#df-ef26836d-b038-4eab-a570-c688effdd700 button');\n",
              "      quickchartButtonEl.style.display =\n",
              "        google.colab.kernel.accessAllowed ? 'block' : 'none';\n",
              "    })();\n",
              "  </script>\n",
              "</div>\n",
              "    </div>\n",
              "  </div>\n"
            ]
          },
          "metadata": {},
          "execution_count": 6
        }
      ]
    },
    {
      "cell_type": "markdown",
      "source": [
        "# **2. Effectuez des tâches de la pipeline TAL sur des données textuelle**"
      ],
      "metadata": {
        "id": "VxWQ1Nz_y2mX"
      }
    },
    {
      "cell_type": "markdown",
      "source": [
        "Chargement du modele spacy"
      ],
      "metadata": {
        "id": "sdfI4Gx_qdyn"
      }
    },
    {
      "cell_type": "code",
      "source": [
        "nlp = spacy.load(\"en_core_web_sm\")"
      ],
      "metadata": {
        "id": "E_U9yFPrRcQi"
      },
      "execution_count": 7,
      "outputs": []
    },
    {
      "cell_type": "markdown",
      "source": [
        "L'application du pipeline à chaque phrase crée un document dans lequel chaque mot est un objet Token.\n",
        "\n",
        "Doc: https://spacy.io/api/doc\n",
        "\n",
        "Token: https://spacy.io/api/token"
      ],
      "metadata": {
        "id": "sILQ7gtLICpA"
      }
    },
    {
      "cell_type": "code",
      "source": [
        "#Apply nlp pipeline to the column that has your sentences (the text that will serve as input features).\n",
        "data['tokenized'] = data['Body'].apply(nlp)"
      ],
      "metadata": {
        "id": "ckpJto4cRibe"
      },
      "execution_count": 8,
      "outputs": []
    },
    {
      "cell_type": "code",
      "source": [
        "data.head()"
      ],
      "metadata": {
        "id": "8GVVDdvORkpR",
        "colab": {
          "base_uri": "https://localhost:8080/",
          "height": 414
        },
        "outputId": "681bbed4-fc79-4d44-8cca-947bc0704d3b"
      },
      "execution_count": 9,
      "outputs": [
        {
          "output_type": "execute_result",
          "data": {
            "text/plain": [
              "   ID                                              Title  \\\n",
              "0   1  Candy factory didn't evacuate concerned worker...   \n",
              "1   2  Baltimore police ask for public's help identif...   \n",
              "2   3  An arrest warrant has been issued for a suspec...   \n",
              "3   4  115 improperly stored human remains found in C...   \n",
              "4   5  Bronx day care provider and 2 others indicted ...   \n",
              "\n",
              "                                         Description  \\\n",
              "0  An eastern Pennsylvania candy factory didn’t e...   \n",
              "1  Two shooters were involved in an attack at Mor...   \n",
              "2  Authorities in Pennsylvania say they have issu...   \n",
              "3  An investigation into more than 115 bodies fou...   \n",
              "4  A Bronx day care provider, her husband and his...   \n",
              "\n",
              "                                                Body  \\\n",
              "0  An eastern Pennsylvania candy factory didn’t e...   \n",
              "1  Two shooters were involved in an attack at Mor...   \n",
              "2  Authorities in Pennsylvania say they have issu...   \n",
              "3  An investigation into more than 115 bodies fou...   \n",
              "4  A Bronx day care provider, her husband and his...   \n",
              "\n",
              "                                            Keywords Theme  \\\n",
              "0  accident investigations, accidents, accidents,...    us   \n",
              "1  baltimore, brand safety-nsf crime, brand safet...    us   \n",
              "2  arrest warrants, arrests, brand safety-nsf cri...    us   \n",
              "3  brand safety-nsf death, brand safety-nsf sensi...    us   \n",
              "4  brand safety-nsf crime, brand safety-nsf death...    us   \n",
              "\n",
              "                                                Link  \\\n",
              "0  https://edition.cnn.com/2023/10/06/us/pennsylv...   \n",
              "1  https://edition.cnn.com/2023/10/06/us/morgan-s...   \n",
              "2  https://edition.cnn.com/2023/10/06/us/josh-kru...   \n",
              "3  https://edition.cnn.com/2023/10/06/us/colorado...   \n",
              "4  https://edition.cnn.com/2023/10/05/us/bronx-da...   \n",
              "\n",
              "                                           tokenized  \n",
              "0  (An, eastern, Pennsylvania, candy, factory, di...  \n",
              "1  (Two, shooters, were, involved, in, an, attack...  \n",
              "2  (Authorities, in, Pennsylvania, say, they, hav...  \n",
              "3  (An, investigation, into, more, than, 115, bod...  \n",
              "4  (A, Bronx, day, care, provider, ,, her, husban...  "
            ],
            "text/html": [
              "\n",
              "  <div id=\"df-b351261d-3329-4963-adc7-34ed8a79a435\" class=\"colab-df-container\">\n",
              "    <div>\n",
              "<style scoped>\n",
              "    .dataframe tbody tr th:only-of-type {\n",
              "        vertical-align: middle;\n",
              "    }\n",
              "\n",
              "    .dataframe tbody tr th {\n",
              "        vertical-align: top;\n",
              "    }\n",
              "\n",
              "    .dataframe thead th {\n",
              "        text-align: right;\n",
              "    }\n",
              "</style>\n",
              "<table border=\"1\" class=\"dataframe\">\n",
              "  <thead>\n",
              "    <tr style=\"text-align: right;\">\n",
              "      <th></th>\n",
              "      <th>ID</th>\n",
              "      <th>Title</th>\n",
              "      <th>Description</th>\n",
              "      <th>Body</th>\n",
              "      <th>Keywords</th>\n",
              "      <th>Theme</th>\n",
              "      <th>Link</th>\n",
              "      <th>tokenized</th>\n",
              "    </tr>\n",
              "  </thead>\n",
              "  <tbody>\n",
              "    <tr>\n",
              "      <th>0</th>\n",
              "      <td>1</td>\n",
              "      <td>Candy factory didn't evacuate concerned worker...</td>\n",
              "      <td>An eastern Pennsylvania candy factory didn’t e...</td>\n",
              "      <td>An eastern Pennsylvania candy factory didn’t e...</td>\n",
              "      <td>accident investigations, accidents, accidents,...</td>\n",
              "      <td>us</td>\n",
              "      <td>https://edition.cnn.com/2023/10/06/us/pennsylv...</td>\n",
              "      <td>(An, eastern, Pennsylvania, candy, factory, di...</td>\n",
              "    </tr>\n",
              "    <tr>\n",
              "      <th>1</th>\n",
              "      <td>2</td>\n",
              "      <td>Baltimore police ask for public's help identif...</td>\n",
              "      <td>Two shooters were involved in an attack at Mor...</td>\n",
              "      <td>Two shooters were involved in an attack at Mor...</td>\n",
              "      <td>baltimore, brand safety-nsf crime, brand safet...</td>\n",
              "      <td>us</td>\n",
              "      <td>https://edition.cnn.com/2023/10/06/us/morgan-s...</td>\n",
              "      <td>(Two, shooters, were, involved, in, an, attack...</td>\n",
              "    </tr>\n",
              "    <tr>\n",
              "      <th>2</th>\n",
              "      <td>3</td>\n",
              "      <td>An arrest warrant has been issued for a suspec...</td>\n",
              "      <td>Authorities in Pennsylvania say they have issu...</td>\n",
              "      <td>Authorities in Pennsylvania say they have issu...</td>\n",
              "      <td>arrest warrants, arrests, brand safety-nsf cri...</td>\n",
              "      <td>us</td>\n",
              "      <td>https://edition.cnn.com/2023/10/06/us/josh-kru...</td>\n",
              "      <td>(Authorities, in, Pennsylvania, say, they, hav...</td>\n",
              "    </tr>\n",
              "    <tr>\n",
              "      <th>3</th>\n",
              "      <td>4</td>\n",
              "      <td>115 improperly stored human remains found in C...</td>\n",
              "      <td>An investigation into more than 115 bodies fou...</td>\n",
              "      <td>An investigation into more than 115 bodies fou...</td>\n",
              "      <td>brand safety-nsf death, brand safety-nsf sensi...</td>\n",
              "      <td>us</td>\n",
              "      <td>https://edition.cnn.com/2023/10/06/us/colorado...</td>\n",
              "      <td>(An, investigation, into, more, than, 115, bod...</td>\n",
              "    </tr>\n",
              "    <tr>\n",
              "      <th>4</th>\n",
              "      <td>5</td>\n",
              "      <td>Bronx day care provider and 2 others indicted ...</td>\n",
              "      <td>A Bronx day care provider, her husband and his...</td>\n",
              "      <td>A Bronx day care provider, her husband and his...</td>\n",
              "      <td>brand safety-nsf crime, brand safety-nsf death...</td>\n",
              "      <td>us</td>\n",
              "      <td>https://edition.cnn.com/2023/10/05/us/bronx-da...</td>\n",
              "      <td>(A, Bronx, day, care, provider, ,, her, husban...</td>\n",
              "    </tr>\n",
              "  </tbody>\n",
              "</table>\n",
              "</div>\n",
              "    <div class=\"colab-df-buttons\">\n",
              "\n",
              "  <div class=\"colab-df-container\">\n",
              "    <button class=\"colab-df-convert\" onclick=\"convertToInteractive('df-b351261d-3329-4963-adc7-34ed8a79a435')\"\n",
              "            title=\"Convert this dataframe to an interactive table.\"\n",
              "            style=\"display:none;\">\n",
              "\n",
              "  <svg xmlns=\"http://www.w3.org/2000/svg\" height=\"24px\" viewBox=\"0 -960 960 960\">\n",
              "    <path d=\"M120-120v-720h720v720H120Zm60-500h600v-160H180v160Zm220 220h160v-160H400v160Zm0 220h160v-160H400v160ZM180-400h160v-160H180v160Zm440 0h160v-160H620v160ZM180-180h160v-160H180v160Zm440 0h160v-160H620v160Z\"/>\n",
              "  </svg>\n",
              "    </button>\n",
              "\n",
              "  <style>\n",
              "    .colab-df-container {\n",
              "      display:flex;\n",
              "      gap: 12px;\n",
              "    }\n",
              "\n",
              "    .colab-df-convert {\n",
              "      background-color: #E8F0FE;\n",
              "      border: none;\n",
              "      border-radius: 50%;\n",
              "      cursor: pointer;\n",
              "      display: none;\n",
              "      fill: #1967D2;\n",
              "      height: 32px;\n",
              "      padding: 0 0 0 0;\n",
              "      width: 32px;\n",
              "    }\n",
              "\n",
              "    .colab-df-convert:hover {\n",
              "      background-color: #E2EBFA;\n",
              "      box-shadow: 0px 1px 2px rgba(60, 64, 67, 0.3), 0px 1px 3px 1px rgba(60, 64, 67, 0.15);\n",
              "      fill: #174EA6;\n",
              "    }\n",
              "\n",
              "    .colab-df-buttons div {\n",
              "      margin-bottom: 4px;\n",
              "    }\n",
              "\n",
              "    [theme=dark] .colab-df-convert {\n",
              "      background-color: #3B4455;\n",
              "      fill: #D2E3FC;\n",
              "    }\n",
              "\n",
              "    [theme=dark] .colab-df-convert:hover {\n",
              "      background-color: #434B5C;\n",
              "      box-shadow: 0px 1px 3px 1px rgba(0, 0, 0, 0.15);\n",
              "      filter: drop-shadow(0px 1px 2px rgba(0, 0, 0, 0.3));\n",
              "      fill: #FFFFFF;\n",
              "    }\n",
              "  </style>\n",
              "\n",
              "    <script>\n",
              "      const buttonEl =\n",
              "        document.querySelector('#df-b351261d-3329-4963-adc7-34ed8a79a435 button.colab-df-convert');\n",
              "      buttonEl.style.display =\n",
              "        google.colab.kernel.accessAllowed ? 'block' : 'none';\n",
              "\n",
              "      async function convertToInteractive(key) {\n",
              "        const element = document.querySelector('#df-b351261d-3329-4963-adc7-34ed8a79a435');\n",
              "        const dataTable =\n",
              "          await google.colab.kernel.invokeFunction('convertToInteractive',\n",
              "                                                    [key], {});\n",
              "        if (!dataTable) return;\n",
              "\n",
              "        const docLinkHtml = 'Like what you see? Visit the ' +\n",
              "          '<a target=\"_blank\" href=https://colab.research.google.com/notebooks/data_table.ipynb>data table notebook</a>'\n",
              "          + ' to learn more about interactive tables.';\n",
              "        element.innerHTML = '';\n",
              "        dataTable['output_type'] = 'display_data';\n",
              "        await google.colab.output.renderOutput(dataTable, element);\n",
              "        const docLink = document.createElement('div');\n",
              "        docLink.innerHTML = docLinkHtml;\n",
              "        element.appendChild(docLink);\n",
              "      }\n",
              "    </script>\n",
              "  </div>\n",
              "\n",
              "\n",
              "<div id=\"df-48267cb7-07d8-4893-9db9-4e39147bd03f\">\n",
              "  <button class=\"colab-df-quickchart\" onclick=\"quickchart('df-48267cb7-07d8-4893-9db9-4e39147bd03f')\"\n",
              "            title=\"Suggest charts\"\n",
              "            style=\"display:none;\">\n",
              "\n",
              "<svg xmlns=\"http://www.w3.org/2000/svg\" height=\"24px\"viewBox=\"0 0 24 24\"\n",
              "     width=\"24px\">\n",
              "    <g>\n",
              "        <path d=\"M19 3H5c-1.1 0-2 .9-2 2v14c0 1.1.9 2 2 2h14c1.1 0 2-.9 2-2V5c0-1.1-.9-2-2-2zM9 17H7v-7h2v7zm4 0h-2V7h2v10zm4 0h-2v-4h2v4z\"/>\n",
              "    </g>\n",
              "</svg>\n",
              "  </button>\n",
              "\n",
              "<style>\n",
              "  .colab-df-quickchart {\n",
              "      --bg-color: #E8F0FE;\n",
              "      --fill-color: #1967D2;\n",
              "      --hover-bg-color: #E2EBFA;\n",
              "      --hover-fill-color: #174EA6;\n",
              "      --disabled-fill-color: #AAA;\n",
              "      --disabled-bg-color: #DDD;\n",
              "  }\n",
              "\n",
              "  [theme=dark] .colab-df-quickchart {\n",
              "      --bg-color: #3B4455;\n",
              "      --fill-color: #D2E3FC;\n",
              "      --hover-bg-color: #434B5C;\n",
              "      --hover-fill-color: #FFFFFF;\n",
              "      --disabled-bg-color: #3B4455;\n",
              "      --disabled-fill-color: #666;\n",
              "  }\n",
              "\n",
              "  .colab-df-quickchart {\n",
              "    background-color: var(--bg-color);\n",
              "    border: none;\n",
              "    border-radius: 50%;\n",
              "    cursor: pointer;\n",
              "    display: none;\n",
              "    fill: var(--fill-color);\n",
              "    height: 32px;\n",
              "    padding: 0;\n",
              "    width: 32px;\n",
              "  }\n",
              "\n",
              "  .colab-df-quickchart:hover {\n",
              "    background-color: var(--hover-bg-color);\n",
              "    box-shadow: 0 1px 2px rgba(60, 64, 67, 0.3), 0 1px 3px 1px rgba(60, 64, 67, 0.15);\n",
              "    fill: var(--button-hover-fill-color);\n",
              "  }\n",
              "\n",
              "  .colab-df-quickchart-complete:disabled,\n",
              "  .colab-df-quickchart-complete:disabled:hover {\n",
              "    background-color: var(--disabled-bg-color);\n",
              "    fill: var(--disabled-fill-color);\n",
              "    box-shadow: none;\n",
              "  }\n",
              "\n",
              "  .colab-df-spinner {\n",
              "    border: 2px solid var(--fill-color);\n",
              "    border-color: transparent;\n",
              "    border-bottom-color: var(--fill-color);\n",
              "    animation:\n",
              "      spin 1s steps(1) infinite;\n",
              "  }\n",
              "\n",
              "  @keyframes spin {\n",
              "    0% {\n",
              "      border-color: transparent;\n",
              "      border-bottom-color: var(--fill-color);\n",
              "      border-left-color: var(--fill-color);\n",
              "    }\n",
              "    20% {\n",
              "      border-color: transparent;\n",
              "      border-left-color: var(--fill-color);\n",
              "      border-top-color: var(--fill-color);\n",
              "    }\n",
              "    30% {\n",
              "      border-color: transparent;\n",
              "      border-left-color: var(--fill-color);\n",
              "      border-top-color: var(--fill-color);\n",
              "      border-right-color: var(--fill-color);\n",
              "    }\n",
              "    40% {\n",
              "      border-color: transparent;\n",
              "      border-right-color: var(--fill-color);\n",
              "      border-top-color: var(--fill-color);\n",
              "    }\n",
              "    60% {\n",
              "      border-color: transparent;\n",
              "      border-right-color: var(--fill-color);\n",
              "    }\n",
              "    80% {\n",
              "      border-color: transparent;\n",
              "      border-right-color: var(--fill-color);\n",
              "      border-bottom-color: var(--fill-color);\n",
              "    }\n",
              "    90% {\n",
              "      border-color: transparent;\n",
              "      border-bottom-color: var(--fill-color);\n",
              "    }\n",
              "  }\n",
              "</style>\n",
              "\n",
              "  <script>\n",
              "    async function quickchart(key) {\n",
              "      const quickchartButtonEl =\n",
              "        document.querySelector('#' + key + ' button');\n",
              "      quickchartButtonEl.disabled = true;  // To prevent multiple clicks.\n",
              "      quickchartButtonEl.classList.add('colab-df-spinner');\n",
              "      try {\n",
              "        const charts = await google.colab.kernel.invokeFunction(\n",
              "            'suggestCharts', [key], {});\n",
              "      } catch (error) {\n",
              "        console.error('Error during call to suggestCharts:', error);\n",
              "      }\n",
              "      quickchartButtonEl.classList.remove('colab-df-spinner');\n",
              "      quickchartButtonEl.classList.add('colab-df-quickchart-complete');\n",
              "    }\n",
              "    (() => {\n",
              "      let quickchartButtonEl =\n",
              "        document.querySelector('#df-48267cb7-07d8-4893-9db9-4e39147bd03f button');\n",
              "      quickchartButtonEl.style.display =\n",
              "        google.colab.kernel.accessAllowed ? 'block' : 'none';\n",
              "    })();\n",
              "  </script>\n",
              "</div>\n",
              "    </div>\n",
              "  </div>\n"
            ]
          },
          "metadata": {},
          "execution_count": 9
        }
      ]
    },
    {
      "cell_type": "markdown",
      "source": [
        "Un token a plusieurs attributs, tel part-of-speech (pos_), lemma (lemma_), etc. Regardez la documentation pour voir l'ensemble des attributs.\n",
        "\n",
        "La fonction suivante est un exemple de la façon dont vous pouvez récupérer les parties du discours (POS)à partir d'une phrase. Nous renvoyons la lemmatisation car nous voulons uniquement le mot à l'infinitif."
      ],
      "metadata": {
        "id": "qXrEQHCVRnPk"
      }
    },
    {
      "cell_type": "code",
      "source": [
        "#create empty dataframes that will store your derived datasets\n",
        "\n",
        "\n",
        "derived_dataset1 = pd.DataFrame(columns=['ID', 'pos'])\n",
        "derived_dataset2 = pd.DataFrame(columns=['ID', 'pos-np'])"
      ],
      "metadata": {
        "id": "fCD9bPFwRsa-"
      },
      "execution_count": 10,
      "outputs": []
    },
    {
      "cell_type": "code",
      "source": [
        "# Fonction pour extraire des POS spécifiques et lemmatiser\n",
        "def get_pos(sentence, wanted_pos):\n",
        "    words = []\n",
        "    for token in sentence:\n",
        "        if token.pos_ in wanted_pos:\n",
        "          #  lemma pour obtenir la forme de base du mot\n",
        "            words.append(token.lemma_)\n",
        "    return ' '.join(words)"
      ],
      "metadata": {
        "id": "rJ2w-SHKRvpA"
      },
      "execution_count": 11,
      "outputs": []
    },
    {
      "cell_type": "code",
      "source": [
        "#As an example, we use the above function to fetch all the verbs. We store this information in our first derived dataset\n",
        "derived_dataset1['pos'] = data['tokenized'].apply(lambda sent : get_pos(sent, ['VERB']))\n",
        "derived_dataset1['ID'] = data['ID']"
      ],
      "metadata": {
        "id": "XOhtUbmRRyD-"
      },
      "execution_count": 12,
      "outputs": []
    },
    {
      "cell_type": "code",
      "source": [
        "derived_dataset1.head()"
      ],
      "metadata": {
        "id": "N650t_pCRz5_",
        "colab": {
          "base_uri": "https://localhost:8080/",
          "height": 206
        },
        "outputId": "a6848581-ed73-490f-be9b-96e11bb98d5a"
      },
      "execution_count": 13,
      "outputs": [
        {
          "output_type": "execute_result",
          "data": {
            "text/plain": [
              "   ID                                                pos\n",
              "0   1  evacuate say smell leave injure announce base ...\n",
              "1   2  involve injure confirm ask identify see walk c...\n",
              "2   3  say issue suspect kill advocate identify consi...\n",
              "3   4  find store offer take say find go say have nee...\n",
              "4   5  indict expose include die say indict accord sa..."
            ],
            "text/html": [
              "\n",
              "  <div id=\"df-cae33f08-9bc8-4577-bc7a-23ef75472605\" class=\"colab-df-container\">\n",
              "    <div>\n",
              "<style scoped>\n",
              "    .dataframe tbody tr th:only-of-type {\n",
              "        vertical-align: middle;\n",
              "    }\n",
              "\n",
              "    .dataframe tbody tr th {\n",
              "        vertical-align: top;\n",
              "    }\n",
              "\n",
              "    .dataframe thead th {\n",
              "        text-align: right;\n",
              "    }\n",
              "</style>\n",
              "<table border=\"1\" class=\"dataframe\">\n",
              "  <thead>\n",
              "    <tr style=\"text-align: right;\">\n",
              "      <th></th>\n",
              "      <th>ID</th>\n",
              "      <th>pos</th>\n",
              "    </tr>\n",
              "  </thead>\n",
              "  <tbody>\n",
              "    <tr>\n",
              "      <th>0</th>\n",
              "      <td>1</td>\n",
              "      <td>evacuate say smell leave injure announce base ...</td>\n",
              "    </tr>\n",
              "    <tr>\n",
              "      <th>1</th>\n",
              "      <td>2</td>\n",
              "      <td>involve injure confirm ask identify see walk c...</td>\n",
              "    </tr>\n",
              "    <tr>\n",
              "      <th>2</th>\n",
              "      <td>3</td>\n",
              "      <td>say issue suspect kill advocate identify consi...</td>\n",
              "    </tr>\n",
              "    <tr>\n",
              "      <th>3</th>\n",
              "      <td>4</td>\n",
              "      <td>find store offer take say find go say have nee...</td>\n",
              "    </tr>\n",
              "    <tr>\n",
              "      <th>4</th>\n",
              "      <td>5</td>\n",
              "      <td>indict expose include die say indict accord sa...</td>\n",
              "    </tr>\n",
              "  </tbody>\n",
              "</table>\n",
              "</div>\n",
              "    <div class=\"colab-df-buttons\">\n",
              "\n",
              "  <div class=\"colab-df-container\">\n",
              "    <button class=\"colab-df-convert\" onclick=\"convertToInteractive('df-cae33f08-9bc8-4577-bc7a-23ef75472605')\"\n",
              "            title=\"Convert this dataframe to an interactive table.\"\n",
              "            style=\"display:none;\">\n",
              "\n",
              "  <svg xmlns=\"http://www.w3.org/2000/svg\" height=\"24px\" viewBox=\"0 -960 960 960\">\n",
              "    <path d=\"M120-120v-720h720v720H120Zm60-500h600v-160H180v160Zm220 220h160v-160H400v160Zm0 220h160v-160H400v160ZM180-400h160v-160H180v160Zm440 0h160v-160H620v160ZM180-180h160v-160H180v160Zm440 0h160v-160H620v160Z\"/>\n",
              "  </svg>\n",
              "    </button>\n",
              "\n",
              "  <style>\n",
              "    .colab-df-container {\n",
              "      display:flex;\n",
              "      gap: 12px;\n",
              "    }\n",
              "\n",
              "    .colab-df-convert {\n",
              "      background-color: #E8F0FE;\n",
              "      border: none;\n",
              "      border-radius: 50%;\n",
              "      cursor: pointer;\n",
              "      display: none;\n",
              "      fill: #1967D2;\n",
              "      height: 32px;\n",
              "      padding: 0 0 0 0;\n",
              "      width: 32px;\n",
              "    }\n",
              "\n",
              "    .colab-df-convert:hover {\n",
              "      background-color: #E2EBFA;\n",
              "      box-shadow: 0px 1px 2px rgba(60, 64, 67, 0.3), 0px 1px 3px 1px rgba(60, 64, 67, 0.15);\n",
              "      fill: #174EA6;\n",
              "    }\n",
              "\n",
              "    .colab-df-buttons div {\n",
              "      margin-bottom: 4px;\n",
              "    }\n",
              "\n",
              "    [theme=dark] .colab-df-convert {\n",
              "      background-color: #3B4455;\n",
              "      fill: #D2E3FC;\n",
              "    }\n",
              "\n",
              "    [theme=dark] .colab-df-convert:hover {\n",
              "      background-color: #434B5C;\n",
              "      box-shadow: 0px 1px 3px 1px rgba(0, 0, 0, 0.15);\n",
              "      filter: drop-shadow(0px 1px 2px rgba(0, 0, 0, 0.3));\n",
              "      fill: #FFFFFF;\n",
              "    }\n",
              "  </style>\n",
              "\n",
              "    <script>\n",
              "      const buttonEl =\n",
              "        document.querySelector('#df-cae33f08-9bc8-4577-bc7a-23ef75472605 button.colab-df-convert');\n",
              "      buttonEl.style.display =\n",
              "        google.colab.kernel.accessAllowed ? 'block' : 'none';\n",
              "\n",
              "      async function convertToInteractive(key) {\n",
              "        const element = document.querySelector('#df-cae33f08-9bc8-4577-bc7a-23ef75472605');\n",
              "        const dataTable =\n",
              "          await google.colab.kernel.invokeFunction('convertToInteractive',\n",
              "                                                    [key], {});\n",
              "        if (!dataTable) return;\n",
              "\n",
              "        const docLinkHtml = 'Like what you see? Visit the ' +\n",
              "          '<a target=\"_blank\" href=https://colab.research.google.com/notebooks/data_table.ipynb>data table notebook</a>'\n",
              "          + ' to learn more about interactive tables.';\n",
              "        element.innerHTML = '';\n",
              "        dataTable['output_type'] = 'display_data';\n",
              "        await google.colab.output.renderOutput(dataTable, element);\n",
              "        const docLink = document.createElement('div');\n",
              "        docLink.innerHTML = docLinkHtml;\n",
              "        element.appendChild(docLink);\n",
              "      }\n",
              "    </script>\n",
              "  </div>\n",
              "\n",
              "\n",
              "<div id=\"df-99902090-5cbb-43d7-b4f0-45ac01dc6d7e\">\n",
              "  <button class=\"colab-df-quickchart\" onclick=\"quickchart('df-99902090-5cbb-43d7-b4f0-45ac01dc6d7e')\"\n",
              "            title=\"Suggest charts\"\n",
              "            style=\"display:none;\">\n",
              "\n",
              "<svg xmlns=\"http://www.w3.org/2000/svg\" height=\"24px\"viewBox=\"0 0 24 24\"\n",
              "     width=\"24px\">\n",
              "    <g>\n",
              "        <path d=\"M19 3H5c-1.1 0-2 .9-2 2v14c0 1.1.9 2 2 2h14c1.1 0 2-.9 2-2V5c0-1.1-.9-2-2-2zM9 17H7v-7h2v7zm4 0h-2V7h2v10zm4 0h-2v-4h2v4z\"/>\n",
              "    </g>\n",
              "</svg>\n",
              "  </button>\n",
              "\n",
              "<style>\n",
              "  .colab-df-quickchart {\n",
              "      --bg-color: #E8F0FE;\n",
              "      --fill-color: #1967D2;\n",
              "      --hover-bg-color: #E2EBFA;\n",
              "      --hover-fill-color: #174EA6;\n",
              "      --disabled-fill-color: #AAA;\n",
              "      --disabled-bg-color: #DDD;\n",
              "  }\n",
              "\n",
              "  [theme=dark] .colab-df-quickchart {\n",
              "      --bg-color: #3B4455;\n",
              "      --fill-color: #D2E3FC;\n",
              "      --hover-bg-color: #434B5C;\n",
              "      --hover-fill-color: #FFFFFF;\n",
              "      --disabled-bg-color: #3B4455;\n",
              "      --disabled-fill-color: #666;\n",
              "  }\n",
              "\n",
              "  .colab-df-quickchart {\n",
              "    background-color: var(--bg-color);\n",
              "    border: none;\n",
              "    border-radius: 50%;\n",
              "    cursor: pointer;\n",
              "    display: none;\n",
              "    fill: var(--fill-color);\n",
              "    height: 32px;\n",
              "    padding: 0;\n",
              "    width: 32px;\n",
              "  }\n",
              "\n",
              "  .colab-df-quickchart:hover {\n",
              "    background-color: var(--hover-bg-color);\n",
              "    box-shadow: 0 1px 2px rgba(60, 64, 67, 0.3), 0 1px 3px 1px rgba(60, 64, 67, 0.15);\n",
              "    fill: var(--button-hover-fill-color);\n",
              "  }\n",
              "\n",
              "  .colab-df-quickchart-complete:disabled,\n",
              "  .colab-df-quickchart-complete:disabled:hover {\n",
              "    background-color: var(--disabled-bg-color);\n",
              "    fill: var(--disabled-fill-color);\n",
              "    box-shadow: none;\n",
              "  }\n",
              "\n",
              "  .colab-df-spinner {\n",
              "    border: 2px solid var(--fill-color);\n",
              "    border-color: transparent;\n",
              "    border-bottom-color: var(--fill-color);\n",
              "    animation:\n",
              "      spin 1s steps(1) infinite;\n",
              "  }\n",
              "\n",
              "  @keyframes spin {\n",
              "    0% {\n",
              "      border-color: transparent;\n",
              "      border-bottom-color: var(--fill-color);\n",
              "      border-left-color: var(--fill-color);\n",
              "    }\n",
              "    20% {\n",
              "      border-color: transparent;\n",
              "      border-left-color: var(--fill-color);\n",
              "      border-top-color: var(--fill-color);\n",
              "    }\n",
              "    30% {\n",
              "      border-color: transparent;\n",
              "      border-left-color: var(--fill-color);\n",
              "      border-top-color: var(--fill-color);\n",
              "      border-right-color: var(--fill-color);\n",
              "    }\n",
              "    40% {\n",
              "      border-color: transparent;\n",
              "      border-right-color: var(--fill-color);\n",
              "      border-top-color: var(--fill-color);\n",
              "    }\n",
              "    60% {\n",
              "      border-color: transparent;\n",
              "      border-right-color: var(--fill-color);\n",
              "    }\n",
              "    80% {\n",
              "      border-color: transparent;\n",
              "      border-right-color: var(--fill-color);\n",
              "      border-bottom-color: var(--fill-color);\n",
              "    }\n",
              "    90% {\n",
              "      border-color: transparent;\n",
              "      border-bottom-color: var(--fill-color);\n",
              "    }\n",
              "  }\n",
              "</style>\n",
              "\n",
              "  <script>\n",
              "    async function quickchart(key) {\n",
              "      const quickchartButtonEl =\n",
              "        document.querySelector('#' + key + ' button');\n",
              "      quickchartButtonEl.disabled = true;  // To prevent multiple clicks.\n",
              "      quickchartButtonEl.classList.add('colab-df-spinner');\n",
              "      try {\n",
              "        const charts = await google.colab.kernel.invokeFunction(\n",
              "            'suggestCharts', [key], {});\n",
              "      } catch (error) {\n",
              "        console.error('Error during call to suggestCharts:', error);\n",
              "      }\n",
              "      quickchartButtonEl.classList.remove('colab-df-spinner');\n",
              "      quickchartButtonEl.classList.add('colab-df-quickchart-complete');\n",
              "    }\n",
              "    (() => {\n",
              "      let quickchartButtonEl =\n",
              "        document.querySelector('#df-99902090-5cbb-43d7-b4f0-45ac01dc6d7e button');\n",
              "      quickchartButtonEl.style.display =\n",
              "        google.colab.kernel.accessAllowed ? 'block' : 'none';\n",
              "    })();\n",
              "  </script>\n",
              "</div>\n",
              "    </div>\n",
              "  </div>\n"
            ]
          },
          "metadata": {},
          "execution_count": 13
        }
      ]
    },
    {
      "cell_type": "markdown",
      "source": [
        "Dans notre Derived-Dataset-1, on a décidé de regarder de près les verbes dans les articles de CNN.Pour les raison suivantes:\n",
        "\n",
        "Les verbes sont importants dans les articles , ils racontent ce qui se passe. Ils sont au le cœur des histoires - ils montrent les actions . En prenant les verbes, on saisit les parties les plus actives des articles, ce qui nous aide à mieux comprendre l'histoire.\n",
        "\n",
        " Lemmatisatiser les verbes nous aide à regrouper les différents formes d'un même verbe. Par exemple, \"running\", \"ran\", et \"run\" sont tous regroupés sous \"run\". C'est utile pour repérer les sujets principaux ."
      ],
      "metadata": {
        "id": "ZEBqTruILw_T"
      }
    },
    {
      "cell_type": "code",
      "source": [
        "#For Derived Dataset 2, you also need to include Named Entities\n",
        "#Below is just an example of obtaining such entities on a specific sentence, but you would do NER\n",
        "#on the dataset of your choice.\n",
        "#You can choose the types of entities (dates, organization, people) that you want,\n",
        "#and then in your derived dataset, just make sure you include these entities separated by spaces (as shown for verbs)\n",
        "#in a previous cell.\n",
        "\n",
        "def extract_entities_and_np(sentence):\n",
        "    entities_and_np = []\n",
        "    # Extraction des entités\n",
        "    for ent in sentence.ents:\n",
        "        entities_and_np.append(ent.text)\n",
        "    # Extraction des noms propres\n",
        "    for token in sentence:\n",
        "        if token.pos_ == 'PROPN':\n",
        "            entities_and_np.append(token.text)\n",
        "    return ' '.join(entities_and_np)"
      ],
      "metadata": {
        "id": "AhYWGZdaR423"
      },
      "execution_count": 14,
      "outputs": []
    },
    {
      "cell_type": "code",
      "source": [
        "# Appliquer la fonction à chaque texte tokenisé\n",
        "derived_dataset2['pos-np'] = data['tokenized'].apply(extract_entities_and_np)\n",
        "derived_dataset2['ID'] = data['ID'] # Inclure l'ID pour référence"
      ],
      "metadata": {
        "id": "QhNa2LJpuDIV"
      },
      "execution_count": 15,
      "outputs": []
    },
    {
      "cell_type": "code",
      "source": [
        "# Afficher les premières lignes de Derived-Dataset-2\n",
        "print(derived_dataset2.head())"
      ],
      "metadata": {
        "id": "_sN96tMtuJYQ",
        "colab": {
          "base_uri": "https://localhost:8080/"
        },
        "outputId": "61e6a723-06ba-4350-cc4c-c810c3e3ef66"
      },
      "execution_count": 16,
      "outputs": [
        {
          "output_type": "stream",
          "name": "stdout",
          "text": [
            "   ID                                             pos-np\n",
            "0   1  Pennsylvania March seven nearly a dozen the US...\n",
            "1   2  Two Morgan State University Baltimore this wee...\n",
            "2   3  Pennsylvania Josh Kruger earlier this week Rob...\n",
            "3   4  more than 115 Colorado months Penrose about 30...\n",
            "4   5  Bronx four 1-year-old last month Bronx Thursda...\n"
          ]
        }
      ]
    },
    {
      "cell_type": "markdown",
      "source": [
        "Maintenant que vous disposez de vos ensembles de données dérivés, vous pouvez effectuer votre tâche de classification."
      ],
      "metadata": {
        "id": "b_Nsp3z9R8tx"
      }
    },
    {
      "cell_type": "markdown",
      "source": [
        "# **3. Effectuez une étude empirique de classification\n",
        "**\n"
      ],
      "metadata": {
        "id": "4pw2aX8VyZnL"
      }
    },
    {
      "cell_type": "markdown",
      "source": [
        "a-Features"
      ],
      "metadata": {
        "id": "KHqSRE5JzTrg"
      }
    },
    {
      "cell_type": "code",
      "source": [
        "# TF-IDF pour le dataset original\n",
        "vectorizer_original = TfidfVectorizer()\n",
        "X_original = vectorizer_original.fit_transform(data['Body'])  # Assurez-vous que 'Body' est la colonne contenant le texte.\n",
        "X_derived1 = X_bow_stopwords_1\n",
        "X_derived2 = X_tfidf_2\n",
        "label_encoder = LabelEncoder()\n",
        "y_encoded = label_encoder.fit_transform(data['Theme'])\n",
        "\n"
      ],
      "metadata": {
        "id": "KAZTOEnXqQ_Y"
      },
      "execution_count": 39,
      "outputs": []
    },
    {
      "cell_type": "code",
      "source": [
        "\n",
        "print(\"Derived Dataset 1:\")\n",
        "print(derived_dataset1.head())\n",
        "\n",
        "\n",
        "print(\"\\nDerived Dataset 2:\")\n",
        "print(derived_dataset2.head())\n"
      ],
      "metadata": {
        "colab": {
          "base_uri": "https://localhost:8080/"
        },
        "id": "_uQQtkh5pruX",
        "outputId": "1bb5ce0d-6fd4-4fa1-f8eb-debffcfcadd7"
      },
      "execution_count": 17,
      "outputs": [
        {
          "output_type": "stream",
          "name": "stdout",
          "text": [
            "Derived Dataset 1:\n",
            "   ID                                                pos\n",
            "0   1  evacuate say smell leave injure announce base ...\n",
            "1   2  involve injure confirm ask identify see walk c...\n",
            "2   3  say issue suspect kill advocate identify consi...\n",
            "3   4  find store offer take say find go say have nee...\n",
            "4   5  indict expose include die say indict accord sa...\n",
            "\n",
            "Derived Dataset 2:\n",
            "   ID                                             pos-np\n",
            "0   1  Pennsylvania March seven nearly a dozen the US...\n",
            "1   2  Two Morgan State University Baltimore this wee...\n",
            "2   3  Pennsylvania Josh Kruger earlier this week Rob...\n",
            "3   4  more than 115 Colorado months Penrose about 30...\n",
            "4   5  Bronx four 1-year-old last month Bronx Thursda...\n"
          ]
        }
      ]
    },
    {
      "cell_type": "markdown",
      "source": [
        "b- Bag-of-Words"
      ],
      "metadata": {
        "id": "3nzmfR_llYqW"
      }
    },
    {
      "cell_type": "markdown",
      "source": [
        "Cette étape transforme les textes de derived_dataset1 et derived_dataset2 en une représentation numérique utilisant la méthode Bag-of-Words."
      ],
      "metadata": {
        "id": "tGZ-mkkLlivF"
      }
    },
    {
      "cell_type": "code",
      "source": [
        "from sklearn.feature_extraction.text import CountVectorizer\n",
        "\n",
        "# Bag-of-Words pour derived_dataset1\n",
        "vectorizer_bow_1 = CountVectorizer()\n",
        "X_bow_1 = vectorizer_bow_1.fit_transform(derived_dataset1['pos'])\n",
        "\n",
        "# Bag-of-Words pour derived_dataset2\n",
        "vectorizer_bow_2 = CountVectorizer()\n",
        "X_bow_2 = vectorizer_bow_2.fit_transform(derived_dataset2['pos-np'])\n"
      ],
      "metadata": {
        "id": "glxdxpCBleI4"
      },
      "execution_count": 18,
      "outputs": []
    },
    {
      "cell_type": "code",
      "source": [
        "\n",
        "print(\"Forme des Features BoW pour Derived Dataset 1:\", X_bow_1.shape)\n",
        "print(\"Forme des Features BoW pour Derived Dataset 2:\", X_bow_2.shape)\n"
      ],
      "metadata": {
        "colab": {
          "base_uri": "https://localhost:8080/"
        },
        "id": "FyP17NHBp2Jm",
        "outputId": "fa2b6efa-faa3-423d-b3da-78088843e910"
      },
      "execution_count": 19,
      "outputs": [
        {
          "output_type": "stream",
          "name": "stdout",
          "text": [
            "Forme des Features BoW pour Derived Dataset 1: (1412, 4191)\n",
            "Forme des Features BoW pour Derived Dataset 2: (1412, 15767)\n"
          ]
        }
      ]
    },
    {
      "cell_type": "markdown",
      "source": [
        "c-Stop Words"
      ],
      "metadata": {
        "id": "dVxujNMDnoPS"
      }
    },
    {
      "cell_type": "markdown",
      "source": [
        "Suppression des mots vides pour réduire le bruit dans les données"
      ],
      "metadata": {
        "id": "pWtFx6tun2AU"
      }
    },
    {
      "cell_type": "code",
      "source": [
        "# Bag-of-Words avec suppression des mots vides pour derived_dataset1\n",
        "vectorizer_bow_stopwords_1 = CountVectorizer(stop_words='english')\n",
        "X_bow_stopwords_1 = vectorizer_bow_stopwords_1.fit_transform(derived_dataset1['pos'])\n",
        "\n",
        "# Bag-of-Words avec suppression des mots vides pour derived_dataset2\n",
        "vectorizer_bow_stopwords_2 = CountVectorizer(stop_words='english')\n",
        "X_bow_stopwords_2 = vectorizer_bow_stopwords_2.fit_transform(derived_dataset2['pos-np'])\n"
      ],
      "metadata": {
        "id": "fQ-M28VSnzuZ"
      },
      "execution_count": 20,
      "outputs": []
    },
    {
      "cell_type": "code",
      "source": [
        "\n",
        "print(\"Forme des Features BoW  pour Derived Dataset 1:\", X_bow_stopwords_1.shape)\n",
        "print(\"Forme des Features BoW  pour Derived Dataset 2:\", X_bow_stopwords_2.shape)\n"
      ],
      "metadata": {
        "colab": {
          "base_uri": "https://localhost:8080/"
        },
        "id": "eF4r1nxJp_og",
        "outputId": "287ab986-d42f-481a-e966-194a0b72ed5c"
      },
      "execution_count": 21,
      "outputs": [
        {
          "output_type": "stream",
          "name": "stdout",
          "text": [
            "Forme des Features BoW  pour Derived Dataset 1: (1412, 4143)\n",
            "Forme des Features BoW  pour Derived Dataset 2: (1412, 15579)\n"
          ]
        }
      ]
    },
    {
      "cell_type": "markdown",
      "source": [
        "d-TF-IDF"
      ],
      "metadata": {
        "id": "85HBJaXWoaPb"
      }
    },
    {
      "cell_type": "code",
      "source": [
        "from sklearn.feature_extraction.text import TfidfVectorizer\n",
        "\n",
        "# TF-IDF pour derived_dataset1\n",
        "vectorizer_tfidf_1 = TfidfVectorizer()\n",
        "X_tfidf_1 = vectorizer_tfidf_1.fit_transform(derived_dataset1['pos'])\n",
        "\n",
        "# TF-IDF pour derived_dataset2\n",
        "vectorizer_tfidf_2 = TfidfVectorizer()\n",
        "X_tfidf_2 = vectorizer_tfidf_2.fit_transform(derived_dataset2['pos-np'])\n"
      ],
      "metadata": {
        "id": "yHqKyqEfomVa"
      },
      "execution_count": 22,
      "outputs": []
    },
    {
      "cell_type": "code",
      "source": [
        "print(\"Forme des Features TF-IDF pour Derived Dataset 1:\", X_tfidf_1.shape)\n",
        "print(\"Forme des Features TF-IDF pour Derived Dataset 2:\", X_tfidf_2.shape)\n"
      ],
      "metadata": {
        "colab": {
          "base_uri": "https://localhost:8080/"
        },
        "id": "_ttrGWuLqLQa",
        "outputId": "641cf92d-711c-41d8-ba23-32638db3b50d"
      },
      "execution_count": 23,
      "outputs": [
        {
          "output_type": "stream",
          "name": "stdout",
          "text": [
            "Forme des Features TF-IDF pour Derived Dataset 1: (1412, 4191)\n",
            "Forme des Features TF-IDF pour Derived Dataset 2: (1412, 15767)\n"
          ]
        }
      ]
    },
    {
      "cell_type": "markdown",
      "source": [
        "2-Les modeles"
      ],
      "metadata": {
        "id": "gxyK2HRuSCHh"
      }
    },
    {
      "cell_type": "markdown",
      "source": [
        "**Module** pour la modelisation"
      ],
      "metadata": {
        "id": "8_IyhkfqK2RW"
      }
    },
    {
      "cell_type": "code",
      "source": [
        "from sklearn.linear_model import LogisticRegression\n",
        "from sklearn.neural_network import MLPClassifier\n",
        "from sklearn.model_selection import train_test_split\n",
        "from sklearn.preprocessing import LabelEncoder\n",
        "from sklearn.model_selection import cross_val_score, KFold\n",
        "from sklearn.metrics import make_scorer, precision_recall_fscore_support\n"
      ],
      "metadata": {
        "id": "ntoA63aTK5eG"
      },
      "execution_count": 41,
      "outputs": []
    },
    {
      "cell_type": "code",
      "source": [
        "# Encodage des labels\n",
        "label_encoder = LabelEncoder()\n",
        "y_encoded = label_encoder.fit_transform(data['Theme'])\n",
        "\n",
        "# Séparation en ensembles d'entraînement et de test\n",
        "X_train, X_test, y_train, y_test = train_test_split(X_bow_1, y_encoded, test_size=0.2, random_state=42)\n"
      ],
      "metadata": {
        "id": "sRTWzRVcSU3a"
      },
      "execution_count": 33,
      "outputs": []
    },
    {
      "cell_type": "markdown",
      "source": [
        "a-Modèle de régression logistique"
      ],
      "metadata": {
        "id": "cYZDRIzaSGw3"
      }
    },
    {
      "cell_type": "code",
      "source": [
        "logistic_model = LogisticRegression(max_iter=500, solver='lbfgs', random_state=42)\n"
      ],
      "metadata": {
        "id": "jp_HzdgEK9xh"
      },
      "execution_count": 57,
      "outputs": []
    },
    {
      "cell_type": "markdown",
      "source": [
        "b-. Modèle Perceptron multicouches"
      ],
      "metadata": {
        "id": "e7VaN26cSZ_C"
      }
    },
    {
      "cell_type": "code",
      "source": [
        "mlp_model = MLPClassifier(hidden_layer_sizes=(100,), max_iter=500, activation='relu', solver='adam', random_state=42)\n"
      ],
      "metadata": {
        "id": "J8qGNll-K-rk"
      },
      "execution_count": 58,
      "outputs": []
    },
    {
      "cell_type": "markdown",
      "source": [
        "# **3-Entraînez/testez/évaluez vos 2 modèles**"
      ],
      "metadata": {
        "id": "slSkSkz-XXJk"
      }
    },
    {
      "cell_type": "markdown",
      "source": [
        " a-Validation croisée"
      ],
      "metadata": {
        "id": "_H0S69Xd1VWS"
      }
    },
    {
      "cell_type": "code",
      "source": [
        "kf = KFold(n_splits=4, shuffle=True, random_state=42)"
      ],
      "metadata": {
        "id": "u2w7i_Eh1Q5v"
      },
      "execution_count": 59,
      "outputs": []
    },
    {
      "cell_type": "markdown",
      "source": [
        "B-Fonction d'évaluation"
      ],
      "metadata": {
        "id": "IuDlbX6FwmUk"
      }
    },
    {
      "cell_type": "code",
      "source": [
        "from sklearn.metrics import classification_report\n",
        "# Fonction pour évaluer un modèle\n",
        "def evaluate_model(model, X, y):\n",
        "    scores = cross_val_score(model, X, y, cv=kf, scoring='accuracy')\n",
        "    print(f\"Scores de validation croisée: {scores}\")\n",
        "    print(f\"Moyenne des scores: {scores.mean()}\")\n",
        "\n",
        "    # Entraînement et évaluation\n",
        "    model.fit(X, y)\n",
        "    y_pred = model.predict(X)\n",
        "    print(classification_report(y, y_pred))\n",
        "\n",
        "# Évaluation pour chaque ensemble de données\n",
        "for X, name in [(X_original, \"Original\"), (X_derived1, \"Derived1\"), (X_derived2, \"Derived2\")]:\n",
        "    print(f\"--- Évaluation sur {name} ---\")\n",
        "    print(\"Régression Logistique:\")\n",
        "    evaluate_model(logistic_model, X, y_encoded)\n",
        "\n",
        "    print(\"Perceptron Multicouches:\")\n",
        "    evaluate_model(mlp_model, X, y_encoded)"
      ],
      "metadata": {
        "colab": {
          "base_uri": "https://localhost:8080/"
        },
        "id": "qEh2LBTRXql8",
        "outputId": "947d80af-ab55-47f0-fb64-2ec2962ad185"
      },
      "execution_count": 60,
      "outputs": [
        {
          "output_type": "stream",
          "name": "stdout",
          "text": [
            "--- Évaluation sur Original ---\n",
            "Régression Logistique:\n",
            "Scores de validation croisée: [0.73654391 0.76487252 0.77620397 0.76203966]\n",
            "Moyenne des scores: 0.7599150141643061\n"
          ]
        },
        {
          "output_type": "stream",
          "name": "stderr",
          "text": [
            "/usr/local/lib/python3.10/dist-packages/sklearn/metrics/_classification.py:1344: UndefinedMetricWarning: Precision and F-score are ill-defined and being set to 0.0 in labels with no predicted samples. Use `zero_division` parameter to control this behavior.\n",
            "  _warn_prf(average, modifier, msg_start, len(result))\n",
            "/usr/local/lib/python3.10/dist-packages/sklearn/metrics/_classification.py:1344: UndefinedMetricWarning: Precision and F-score are ill-defined and being set to 0.0 in labels with no predicted samples. Use `zero_division` parameter to control this behavior.\n",
            "  _warn_prf(average, modifier, msg_start, len(result))\n",
            "/usr/local/lib/python3.10/dist-packages/sklearn/metrics/_classification.py:1344: UndefinedMetricWarning: Precision and F-score are ill-defined and being set to 0.0 in labels with no predicted samples. Use `zero_division` parameter to control this behavior.\n",
            "  _warn_prf(average, modifier, msg_start, len(result))\n"
          ]
        },
        {
          "output_type": "stream",
          "name": "stdout",
          "text": [
            "              precision    recall  f1-score   support\n",
            "\n",
            "           0       0.94      0.97      0.95       201\n",
            "           1       0.00      0.00      0.00         1\n",
            "           2       0.94      1.00      0.97       113\n",
            "           3       0.94      0.99      0.96       139\n",
            "           4       0.92      0.71      0.80       126\n",
            "           5       0.92      0.91      0.92       174\n",
            "           6       0.99      0.98      0.99       152\n",
            "           7       0.00      0.00      0.00        15\n",
            "           8       0.00      0.00      0.00        11\n",
            "           9       0.98      0.73      0.84        84\n",
            "          10       0.97      1.00      0.98        97\n",
            "          11       0.83      0.99      0.90       299\n",
            "\n",
            "    accuracy                           0.92      1412\n",
            "   macro avg       0.70      0.69      0.69      1412\n",
            "weighted avg       0.90      0.92      0.91      1412\n",
            "\n",
            "Perceptron Multicouches:\n",
            "Scores de validation croisée: [0.81303116 0.8611898  0.8611898  0.83852691]\n",
            "Moyenne des scores: 0.8434844192634562\n",
            "              precision    recall  f1-score   support\n",
            "\n",
            "           0       1.00      1.00      1.00       201\n",
            "           1       1.00      1.00      1.00         1\n",
            "           2       1.00      1.00      1.00       113\n",
            "           3       1.00      1.00      1.00       139\n",
            "           4       1.00      1.00      1.00       126\n",
            "           5       1.00      1.00      1.00       174\n",
            "           6       1.00      1.00      1.00       152\n",
            "           7       1.00      1.00      1.00        15\n",
            "           8       1.00      1.00      1.00        11\n",
            "           9       1.00      1.00      1.00        84\n",
            "          10       1.00      1.00      1.00        97\n",
            "          11       1.00      1.00      1.00       299\n",
            "\n",
            "    accuracy                           1.00      1412\n",
            "   macro avg       1.00      1.00      1.00      1412\n",
            "weighted avg       1.00      1.00      1.00      1412\n",
            "\n",
            "--- Évaluation sur Derived1 ---\n",
            "Régression Logistique:\n"
          ]
        },
        {
          "output_type": "stream",
          "name": "stderr",
          "text": [
            "/usr/local/lib/python3.10/dist-packages/sklearn/linear_model/_logistic.py:458: ConvergenceWarning: lbfgs failed to converge (status=1):\n",
            "STOP: TOTAL NO. of ITERATIONS REACHED LIMIT.\n",
            "\n",
            "Increase the number of iterations (max_iter) or scale the data as shown in:\n",
            "    https://scikit-learn.org/stable/modules/preprocessing.html\n",
            "Please also refer to the documentation for alternative solver options:\n",
            "    https://scikit-learn.org/stable/modules/linear_model.html#logistic-regression\n",
            "  n_iter_i = _check_optimize_result(\n",
            "/usr/local/lib/python3.10/dist-packages/sklearn/linear_model/_logistic.py:458: ConvergenceWarning: lbfgs failed to converge (status=1):\n",
            "STOP: TOTAL NO. of ITERATIONS REACHED LIMIT.\n",
            "\n",
            "Increase the number of iterations (max_iter) or scale the data as shown in:\n",
            "    https://scikit-learn.org/stable/modules/preprocessing.html\n",
            "Please also refer to the documentation for alternative solver options:\n",
            "    https://scikit-learn.org/stable/modules/linear_model.html#logistic-regression\n",
            "  n_iter_i = _check_optimize_result(\n",
            "/usr/local/lib/python3.10/dist-packages/sklearn/linear_model/_logistic.py:458: ConvergenceWarning: lbfgs failed to converge (status=1):\n",
            "STOP: TOTAL NO. of ITERATIONS REACHED LIMIT.\n",
            "\n",
            "Increase the number of iterations (max_iter) or scale the data as shown in:\n",
            "    https://scikit-learn.org/stable/modules/preprocessing.html\n",
            "Please also refer to the documentation for alternative solver options:\n",
            "    https://scikit-learn.org/stable/modules/linear_model.html#logistic-regression\n",
            "  n_iter_i = _check_optimize_result(\n"
          ]
        },
        {
          "output_type": "stream",
          "name": "stdout",
          "text": [
            "Scores de validation croisée: [0.70254958 0.67705382 0.71671388 0.65155807]\n",
            "Moyenne des scores: 0.6869688385269122\n"
          ]
        },
        {
          "output_type": "stream",
          "name": "stderr",
          "text": [
            "/usr/local/lib/python3.10/dist-packages/sklearn/linear_model/_logistic.py:458: ConvergenceWarning: lbfgs failed to converge (status=1):\n",
            "STOP: TOTAL NO. of ITERATIONS REACHED LIMIT.\n",
            "\n",
            "Increase the number of iterations (max_iter) or scale the data as shown in:\n",
            "    https://scikit-learn.org/stable/modules/preprocessing.html\n",
            "Please also refer to the documentation for alternative solver options:\n",
            "    https://scikit-learn.org/stable/modules/linear_model.html#logistic-regression\n",
            "  n_iter_i = _check_optimize_result(\n"
          ]
        },
        {
          "output_type": "stream",
          "name": "stdout",
          "text": [
            "              precision    recall  f1-score   support\n",
            "\n",
            "           0       1.00      1.00      1.00       201\n",
            "           1       1.00      1.00      1.00         1\n",
            "           2       1.00      1.00      1.00       113\n",
            "           3       1.00      1.00      1.00       139\n",
            "           4       1.00      1.00      1.00       126\n",
            "           5       1.00      1.00      1.00       174\n",
            "           6       1.00      1.00      1.00       152\n",
            "           7       1.00      1.00      1.00        15\n",
            "           8       1.00      1.00      1.00        11\n",
            "           9       1.00      1.00      1.00        84\n",
            "          10       1.00      1.00      1.00        97\n",
            "          11       1.00      1.00      1.00       299\n",
            "\n",
            "    accuracy                           1.00      1412\n",
            "   macro avg       1.00      1.00      1.00      1412\n",
            "weighted avg       1.00      1.00      1.00      1412\n",
            "\n",
            "Perceptron Multicouches:\n",
            "Scores de validation croisée: [0.69688385 0.71104816 0.75070822 0.67988669]\n",
            "Moyenne des scores: 0.7096317280453258\n",
            "              precision    recall  f1-score   support\n",
            "\n",
            "           0       1.00      1.00      1.00       201\n",
            "           1       1.00      1.00      1.00         1\n",
            "           2       1.00      1.00      1.00       113\n",
            "           3       1.00      1.00      1.00       139\n",
            "           4       1.00      1.00      1.00       126\n",
            "           5       1.00      1.00      1.00       174\n",
            "           6       1.00      1.00      1.00       152\n",
            "           7       1.00      1.00      1.00        15\n",
            "           8       1.00      1.00      1.00        11\n",
            "           9       1.00      1.00      1.00        84\n",
            "          10       1.00      1.00      1.00        97\n",
            "          11       1.00      1.00      1.00       299\n",
            "\n",
            "    accuracy                           1.00      1412\n",
            "   macro avg       1.00      1.00      1.00      1412\n",
            "weighted avg       1.00      1.00      1.00      1412\n",
            "\n",
            "--- Évaluation sur Derived2 ---\n",
            "Régression Logistique:\n",
            "Scores de validation croisée: [0.6572238  0.64022663 0.69405099 0.6572238 ]\n",
            "Moyenne des scores: 0.6621813031161473\n"
          ]
        },
        {
          "output_type": "stream",
          "name": "stderr",
          "text": [
            "/usr/local/lib/python3.10/dist-packages/sklearn/metrics/_classification.py:1344: UndefinedMetricWarning: Precision and F-score are ill-defined and being set to 0.0 in labels with no predicted samples. Use `zero_division` parameter to control this behavior.\n",
            "  _warn_prf(average, modifier, msg_start, len(result))\n",
            "/usr/local/lib/python3.10/dist-packages/sklearn/metrics/_classification.py:1344: UndefinedMetricWarning: Precision and F-score are ill-defined and being set to 0.0 in labels with no predicted samples. Use `zero_division` parameter to control this behavior.\n",
            "  _warn_prf(average, modifier, msg_start, len(result))\n",
            "/usr/local/lib/python3.10/dist-packages/sklearn/metrics/_classification.py:1344: UndefinedMetricWarning: Precision and F-score are ill-defined and being set to 0.0 in labels with no predicted samples. Use `zero_division` parameter to control this behavior.\n",
            "  _warn_prf(average, modifier, msg_start, len(result))\n"
          ]
        },
        {
          "output_type": "stream",
          "name": "stdout",
          "text": [
            "              precision    recall  f1-score   support\n",
            "\n",
            "           0       0.95      0.97      0.96       201\n",
            "           1       0.00      0.00      0.00         1\n",
            "           2       0.95      0.99      0.97       113\n",
            "           3       0.97      0.99      0.98       139\n",
            "           4       0.92      0.57      0.71       126\n",
            "           5       0.88      0.92      0.90       174\n",
            "           6       0.99      0.97      0.98       152\n",
            "           7       0.00      0.00      0.00        15\n",
            "           8       0.00      0.00      0.00        11\n",
            "           9       0.99      0.95      0.97        84\n",
            "          10       0.98      0.99      0.98        97\n",
            "          11       0.82      0.99      0.90       299\n",
            "\n",
            "    accuracy                           0.92      1412\n",
            "   macro avg       0.70      0.70      0.70      1412\n",
            "weighted avg       0.90      0.92      0.91      1412\n",
            "\n",
            "Perceptron Multicouches:\n",
            "Scores de validation croisée: [0.74220963 0.78186969 0.83002833 0.77053824]\n",
            "Moyenne des scores: 0.7811614730878187\n",
            "              precision    recall  f1-score   support\n",
            "\n",
            "           0       1.00      1.00      1.00       201\n",
            "           1       1.00      1.00      1.00         1\n",
            "           2       1.00      1.00      1.00       113\n",
            "           3       1.00      1.00      1.00       139\n",
            "           4       1.00      1.00      1.00       126\n",
            "           5       1.00      1.00      1.00       174\n",
            "           6       1.00      1.00      1.00       152\n",
            "           7       1.00      1.00      1.00        15\n",
            "           8       1.00      1.00      1.00        11\n",
            "           9       1.00      1.00      1.00        84\n",
            "          10       1.00      1.00      1.00        97\n",
            "          11       1.00      1.00      1.00       299\n",
            "\n",
            "    accuracy                           1.00      1412\n",
            "   macro avg       1.00      1.00      1.00      1412\n",
            "weighted avg       1.00      1.00      1.00      1412\n",
            "\n"
          ]
        }
      ]
    },
    {
      "cell_type": "markdown",
      "source": [
        "Affichage de la distribution des classe"
      ],
      "metadata": {
        "id": "lJVc1rtnxfaa"
      }
    },
    {
      "cell_type": "code",
      "source": [
        "print(data['Theme'].value_counts())\n",
        "\n"
      ],
      "metadata": {
        "colab": {
          "base_uri": "https://localhost:8080/"
        },
        "id": "W_SsyCNoxm6p",
        "outputId": "4df91c82-bc0e-40ce-963c-c6ed5e1cf24f"
      },
      "execution_count": 61,
      "outputs": [
        {
          "output_type": "stream",
          "name": "stdout",
          "text": [
            "world            299\n",
            "business         201\n",
            "politics         174\n",
            "sport            152\n",
            "health           139\n",
            "opinions         126\n",
            "entertainment    113\n",
            "weather           97\n",
            "us                84\n",
            "style             15\n",
            "travel            11\n",
            "cnn                1\n",
            "Name: Theme, dtype: int64\n"
          ]
        }
      ]
    },
    {
      "cell_type": "markdown",
      "source": [
        "**L'analyse des résultats** montre que le modèle de régression logistique fonctionne bien en général mais a du mal avec les classes qui apparaissent moins souvent. Pour ces classes, il n'est pas très précis. D'un autre côté, le modèle Perceptron Multicouches réussit parfaitement sur toutes les classes. Enfin, certaines classes sont beaucoup plus fréquentes que d'autres dans les données,elles sont desiquilibrer. Cela peut poser problème car les modèles peuvent ne pas apprendre correctement à reconnaître les classes qui sont moins nombreuses."
      ],
      "metadata": {
        "id": "ZN-vq_6QG4Rs"
      }
    },
    {
      "cell_type": "markdown",
      "source": [
        "# **4-Modification de certains paramètres**"
      ],
      "metadata": {
        "id": "zZSULHpUHzH9"
      }
    },
    {
      "cell_type": "markdown",
      "source": [
        "Nous allons  changer la taille des couches cachées et la fonction d'activation"
      ],
      "metadata": {
        "id": "fgYrnNQrPVQ8"
      }
    },
    {
      "cell_type": "markdown",
      "source": [
        "Changer la taille des couches cachées"
      ],
      "metadata": {
        "id": "8V1mopo3a-UX"
      }
    },
    {
      "cell_type": "code",
      "source": [
        "# Augmentation de la taille de la couche cachée\n",
        "mlp_model_large = MLPClassifier(hidden_layer_sizes=(150,), max_iter=200, activation='relu', solver='adam', random_state=42)\n",
        "evaluate_model(mlp_model_large, X_original, y_encoded)\n",
        "evaluate_model(mlp_model_large, X_derived1, y_encoded)\n",
        "evaluate_model(mlp_model_large, X_derived2, y_encoded)\n",
        "\n",
        "# Diminution de la taille de la couche cachée\n",
        "mlp_model_small = MLPClassifier(hidden_layer_sizes=(50,), max_iter=200, activation='relu', solver='adam', random_state=42)\n",
        "evaluate_model(mlp_model_small, X_original, y_encoded)\n",
        "evaluate_model(mlp_model_small, X_derived1, y_encoded)\n",
        "evaluate_model(mlp_model_small, X_derived2, y_encoded)\n"
      ],
      "metadata": {
        "colab": {
          "base_uri": "https://localhost:8080/"
        },
        "id": "ulIMT919JYxO",
        "outputId": "91f674ac-77d0-4401-cf91-bc800b4d9ce3"
      },
      "execution_count": 65,
      "outputs": [
        {
          "output_type": "stream",
          "name": "stdout",
          "text": [
            "Scores de validation croisée: [0.81303116 0.85835694 0.86685552 0.84419263]\n",
            "Moyenne des scores: 0.8456090651558074\n",
            "              precision    recall  f1-score   support\n",
            "\n",
            "           0       1.00      1.00      1.00       201\n",
            "           1       1.00      1.00      1.00         1\n",
            "           2       1.00      1.00      1.00       113\n",
            "           3       1.00      1.00      1.00       139\n",
            "           4       1.00      1.00      1.00       126\n",
            "           5       1.00      1.00      1.00       174\n",
            "           6       1.00      1.00      1.00       152\n",
            "           7       1.00      1.00      1.00        15\n",
            "           8       1.00      1.00      1.00        11\n",
            "           9       1.00      1.00      1.00        84\n",
            "          10       1.00      1.00      1.00        97\n",
            "          11       1.00      1.00      1.00       299\n",
            "\n",
            "    accuracy                           1.00      1412\n",
            "   macro avg       1.00      1.00      1.00      1412\n",
            "weighted avg       1.00      1.00      1.00      1412\n",
            "\n",
            "Scores de validation croisée: [0.71954674 0.69971671 0.75070822 0.6713881 ]\n",
            "Moyenne des scores: 0.7103399433427762\n",
            "              precision    recall  f1-score   support\n",
            "\n",
            "           0       1.00      1.00      1.00       201\n",
            "           1       1.00      1.00      1.00         1\n",
            "           2       1.00      1.00      1.00       113\n",
            "           3       1.00      1.00      1.00       139\n",
            "           4       1.00      1.00      1.00       126\n",
            "           5       1.00      1.00      1.00       174\n",
            "           6       1.00      1.00      1.00       152\n",
            "           7       1.00      1.00      1.00        15\n",
            "           8       1.00      1.00      1.00        11\n",
            "           9       1.00      1.00      1.00        84\n",
            "          10       1.00      1.00      1.00        97\n",
            "          11       1.00      1.00      1.00       299\n",
            "\n",
            "    accuracy                           1.00      1412\n",
            "   macro avg       1.00      1.00      1.00      1412\n",
            "weighted avg       1.00      1.00      1.00      1412\n",
            "\n",
            "Scores de validation croisée: [0.75070822 0.77620397 0.82719547 0.77903683]\n",
            "Moyenne des scores: 0.78328611898017\n",
            "              precision    recall  f1-score   support\n",
            "\n",
            "           0       1.00      1.00      1.00       201\n",
            "           1       1.00      1.00      1.00         1\n",
            "           2       1.00      1.00      1.00       113\n",
            "           3       1.00      1.00      1.00       139\n",
            "           4       1.00      1.00      1.00       126\n",
            "           5       1.00      1.00      1.00       174\n",
            "           6       1.00      1.00      1.00       152\n",
            "           7       1.00      1.00      1.00        15\n",
            "           8       1.00      1.00      1.00        11\n",
            "           9       1.00      1.00      1.00        84\n",
            "          10       1.00      1.00      1.00        97\n",
            "          11       1.00      1.00      1.00       299\n",
            "\n",
            "    accuracy                           1.00      1412\n",
            "   macro avg       1.00      1.00      1.00      1412\n",
            "weighted avg       1.00      1.00      1.00      1412\n",
            "\n",
            "Scores de validation croisée: [0.8101983  0.85552408 0.86402266 0.83286119]\n",
            "Moyenne des scores: 0.8406515580736544\n",
            "              precision    recall  f1-score   support\n",
            "\n",
            "           0       1.00      1.00      1.00       201\n",
            "           1       1.00      1.00      1.00         1\n",
            "           2       1.00      1.00      1.00       113\n",
            "           3       1.00      1.00      1.00       139\n",
            "           4       1.00      1.00      1.00       126\n",
            "           5       1.00      1.00      1.00       174\n",
            "           6       1.00      1.00      1.00       152\n",
            "           7       1.00      1.00      1.00        15\n",
            "           8       1.00      1.00      1.00        11\n",
            "           9       1.00      1.00      1.00        84\n",
            "          10       1.00      1.00      1.00        97\n",
            "          11       1.00      1.00      1.00       299\n",
            "\n",
            "    accuracy                           1.00      1412\n",
            "   macro avg       1.00      1.00      1.00      1412\n",
            "weighted avg       1.00      1.00      1.00      1412\n",
            "\n",
            "Scores de validation croisée: [0.69971671 0.69971671 0.75637394 0.66005666]\n",
            "Moyenne des scores: 0.7039660056657224\n",
            "              precision    recall  f1-score   support\n",
            "\n",
            "           0       1.00      1.00      1.00       201\n",
            "           1       1.00      1.00      1.00         1\n",
            "           2       1.00      1.00      1.00       113\n",
            "           3       1.00      1.00      1.00       139\n",
            "           4       1.00      1.00      1.00       126\n",
            "           5       1.00      1.00      1.00       174\n",
            "           6       1.00      1.00      1.00       152\n",
            "           7       1.00      1.00      1.00        15\n",
            "           8       1.00      1.00      1.00        11\n",
            "           9       1.00      1.00      1.00        84\n",
            "          10       1.00      1.00      1.00        97\n",
            "          11       1.00      1.00      1.00       299\n",
            "\n",
            "    accuracy                           1.00      1412\n",
            "   macro avg       1.00      1.00      1.00      1412\n",
            "weighted avg       1.00      1.00      1.00      1412\n",
            "\n",
            "Scores de validation croisée: [0.75070822 0.77903683 0.82436261 0.78186969]\n",
            "Moyenne des scores: 0.7839943342776203\n",
            "              precision    recall  f1-score   support\n",
            "\n",
            "           0       1.00      1.00      1.00       201\n",
            "           1       1.00      1.00      1.00         1\n",
            "           2       1.00      1.00      1.00       113\n",
            "           3       1.00      1.00      1.00       139\n",
            "           4       1.00      1.00      1.00       126\n",
            "           5       1.00      1.00      1.00       174\n",
            "           6       1.00      1.00      1.00       152\n",
            "           7       1.00      1.00      1.00        15\n",
            "           8       1.00      1.00      1.00        11\n",
            "           9       1.00      1.00      1.00        84\n",
            "          10       1.00      1.00      1.00        97\n",
            "          11       1.00      1.00      1.00       299\n",
            "\n",
            "    accuracy                           1.00      1412\n",
            "   macro avg       1.00      1.00      1.00      1412\n",
            "weighted avg       1.00      1.00      1.00      1412\n",
            "\n"
          ]
        }
      ]
    },
    {
      "cell_type": "markdown",
      "source": [
        "Changer la Fonction d'Activation"
      ],
      "metadata": {
        "id": "QmaBe_CyQAf0"
      }
    },
    {
      "cell_type": "code",
      "source": [
        "# Utilisation de la fonction d'activation tanh\n",
        "mlp_model_tanh = MLPClassifier(hidden_layer_sizes=(100,), max_iter=200, activation='tanh', solver='adam', random_state=42)\n",
        "evaluate_model(mlp_model_tanh, X_original, y_encoded)\n",
        "evaluate_model(mlp_model_tanh, X_derived1, y_encoded)\n",
        "evaluate_model(mlp_model_tanh, X_derived2, y_encoded)\n"
      ],
      "metadata": {
        "colab": {
          "base_uri": "https://localhost:8080/"
        },
        "id": "qsCpgc6OQBg_",
        "outputId": "24d0a336-cd4e-476d-e6c7-cb07db01ce4b"
      },
      "execution_count": 66,
      "outputs": [
        {
          "output_type": "stream",
          "name": "stdout",
          "text": [
            "Scores de validation croisée: [0.81586402 0.86402266 0.86402266 0.83569405]\n",
            "Moyenne des scores: 0.8449008498583569\n",
            "              precision    recall  f1-score   support\n",
            "\n",
            "           0       1.00      1.00      1.00       201\n",
            "           1       1.00      1.00      1.00         1\n",
            "           2       1.00      1.00      1.00       113\n",
            "           3       1.00      1.00      1.00       139\n",
            "           4       1.00      1.00      1.00       126\n",
            "           5       1.00      1.00      1.00       174\n",
            "           6       1.00      1.00      1.00       152\n",
            "           7       1.00      1.00      1.00        15\n",
            "           8       1.00      1.00      1.00        11\n",
            "           9       1.00      1.00      1.00        84\n",
            "          10       1.00      1.00      1.00        97\n",
            "          11       1.00      1.00      1.00       299\n",
            "\n",
            "    accuracy                           1.00      1412\n",
            "   macro avg       1.00      1.00      1.00      1412\n",
            "weighted avg       1.00      1.00      1.00      1412\n",
            "\n",
            "Scores de validation croisée: [0.69688385 0.7223796  0.75070822 0.70254958]\n",
            "Moyenne des scores: 0.7181303116147308\n",
            "              precision    recall  f1-score   support\n",
            "\n",
            "           0       1.00      1.00      1.00       201\n",
            "           1       1.00      1.00      1.00         1\n",
            "           2       1.00      1.00      1.00       113\n",
            "           3       1.00      1.00      1.00       139\n",
            "           4       1.00      1.00      1.00       126\n",
            "           5       1.00      1.00      1.00       174\n",
            "           6       1.00      1.00      1.00       152\n",
            "           7       1.00      1.00      1.00        15\n",
            "           8       1.00      1.00      1.00        11\n",
            "           9       1.00      1.00      1.00        84\n",
            "          10       1.00      1.00      1.00        97\n",
            "          11       1.00      1.00      1.00       299\n",
            "\n",
            "    accuracy                           1.00      1412\n",
            "   macro avg       1.00      1.00      1.00      1412\n",
            "weighted avg       1.00      1.00      1.00      1412\n",
            "\n",
            "Scores de validation croisée: [0.75354108 0.77620397 0.83852691 0.7733711 ]\n",
            "Moyenne des scores: 0.7854107648725213\n",
            "              precision    recall  f1-score   support\n",
            "\n",
            "           0       1.00      1.00      1.00       201\n",
            "           1       1.00      1.00      1.00         1\n",
            "           2       1.00      1.00      1.00       113\n",
            "           3       1.00      1.00      1.00       139\n",
            "           4       1.00      1.00      1.00       126\n",
            "           5       1.00      1.00      1.00       174\n",
            "           6       1.00      1.00      1.00       152\n",
            "           7       1.00      1.00      1.00        15\n",
            "           8       1.00      1.00      1.00        11\n",
            "           9       1.00      1.00      1.00        84\n",
            "          10       1.00      1.00      1.00        97\n",
            "          11       1.00      1.00      1.00       299\n",
            "\n",
            "    accuracy                           1.00      1412\n",
            "   macro avg       1.00      1.00      1.00      1412\n",
            "weighted avg       1.00      1.00      1.00      1412\n",
            "\n"
          ]
        }
      ]
    },
    {
      "cell_type": "markdown",
      "source": [
        "Analyse"
      ],
      "metadata": {
        "id": "3DNbH1WHrzJs"
      }
    },
    {
      "cell_type": "markdown",
      "source": [
        "Quand on a augmenté la taille des couches cachées à 150 neurones, le modèle a montré une petite amélioration. Cela veut dire que le modèle a un peu mieux appris à partir des données, mais la différence n'est pas très grande.\n",
        "\n",
        "Ensuite, quand on a réduit la taille des couches cachées à 50 neurones, les performances du modèle ont un peu baissé. Cela suggère que le modèle avait un peu plus de mal à comprendre les détails des données, mais l'effet n'était pas très important.\n",
        "\n",
        "Enfin, en changeant la fonction d'activation pour 'tanh', on n'a pas vu de grands changements par rapport à l'utilisation de 'relu'. Cela signifie que, pour ces données, le type de fonction d'activation n'a pas beaucoup d'importance pour la performance du modèle."
      ],
      "metadata": {
        "id": "usV3q8nbr09w"
      }
    },
    {
      "cell_type": "markdown",
      "source": [
        "5-Analysez les résultats obtenus"
      ],
      "metadata": {
        "id": "FvPEtaZ5xzKy"
      }
    },
    {
      "cell_type": "markdown",
      "source": [
        "a.\n",
        "Régression logistique et perceptron multicouches sur différents jeux de données :\n",
        "\n",
        "Sur l'ensemble original, la régression logistique a montré une performance moyenne avec des scores de validation croisée autour de 0.76. Cependant, sa précision et son rappel étaient faibles pour certaines classes moins fréquentes.\n",
        "Le modèle perceptron multicouches a démontré une précision et un rappel parfaits sur l'ensemble original, indiquant potentiellement un surajustement.\n",
        "modifications de la taille des couches cachées :\n",
        "En augmentant la taille des couches cachées à 150 neurones, une légère amélioration a été observée, mais la différence était minime.\n",
        "En réduisant la taille des couches cachées à 50 neurones, une légère baisse de la performance a été notée, ce qui peut indiquer une capacité réduite du modèle à capturer la complexité des données.\n",
        "Changement de la Fonction d'Activation (tanh) :\n",
        "L’utilisation de la fonction d'activation tanh n'a pas montré de changement significatif par rapport à l'utilisation de la fonction relu."
      ],
      "metadata": {
        "id": "RdVmcsaNx7QD"
      }
    },
    {
      "cell_type": "markdown",
      "source": [
        "c-La régression logistique montre une grande variabilité dans ses performances en termes de précision et de rappel selon les classes, particulièrement faible pour les classes moins représentées. Cela pourrait être dû à l'inégalité dans la distribution des classes.\n",
        "Le modèle Perceptron Multicouches, en revanche, présente une précision et un rappel constants et parfaits pour toutes les classes, ce qui est inhabituel et suggère un surajustement, surtout dans le contexte d'un jeu de données avec une distribution de classe inégale.\n"
      ],
      "metadata": {
        "id": "6wR7JrhayP84"
      }
    }
  ]
}